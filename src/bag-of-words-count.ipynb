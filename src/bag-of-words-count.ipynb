{
 "cells": [
  {
   "cell_type": "code",
   "execution_count": 1,
   "metadata": {
    "collapsed": true
   },
   "outputs": [],
   "source": [
    "import load_data as ld\n",
    "import matplotlib\n",
    "import matplotlib.pyplot as plt\n",
    "import seaborn as sns\n",
    "import numpy as np\n",
    "import pandas as pd\n",
    "import sklearn\n",
    "import sklearn.feature_extraction.text\n",
    "import sklearn.multiclass\n",
    "import sklearn.linear_model\n",
    "% matplotlib inline\n",
    "plt.rcParams['figure.figsize'] = 12, 8"
   ]
  },
  {
   "cell_type": "code",
   "execution_count": 2,
   "metadata": {
    "collapsed": false
   },
   "outputs": [
    {
     "name": "stderr",
     "output_type": "stream",
     "text": [
      "C:\\Users\\kevin.rose\\AppData\\Local\\Continuum\\Anaconda2\\envs\\py35\\lib\\site-packages\\IPython\\core\\interactiveshell.py:2881: DtypeWarning: Columns (3) have mixed types. Specify dtype option on import or set low_memory=False.\n",
      "  exec(code_obj, self.user_global_ns, self.user_ns)\n"
     ]
    }
   ],
   "source": [
    "df = ld.load_data()"
   ]
  },
  {
   "cell_type": "code",
   "execution_count": 3,
   "metadata": {
    "collapsed": false
   },
   "outputs": [
    {
     "name": "stdout",
     "output_type": "stream",
     "text": [
      "(112091, 45)\n",
      "(34253, 45)\n",
      "(23977, 45)\n",
      "(10276, 45)\n"
     ]
    }
   ],
   "source": [
    "crime_df = df.ix[df['relevant'], :]\n",
    "print(crime_df.shape)\n",
    "crime_df = crime_df.ix[crime_df.loc[:, 'OEMC':'TASR'].any(1), :]\n",
    "print(crime_df.shape)\n",
    "\n",
    "idx = np.random.permutation(crime_df.shape[0])\n",
    "trn = crime_df.iloc[idx[:int(crime_df.shape[0] * 0.7)], :]\n",
    "tst = crime_df.iloc[idx[int(crime_df.shape[0] * 0.7):], :]\n",
    "print(trn.shape)\n",
    "print(tst.shape)"
   ]
  },
  {
   "cell_type": "code",
   "execution_count": 4,
   "metadata": {
    "collapsed": false
   },
   "outputs": [],
   "source": [
    "# vectorize data\n",
    "vectorizer = sklearn.feature_extraction.text.CountVectorizer()\n",
    "X = vectorizer.fit_transform(trn['bodytext'].values)\n",
    "\n",
    "Y = trn.loc[:, 'OEMC':'TASR'].values"
   ]
  },
  {
   "cell_type": "code",
   "execution_count": 5,
   "metadata": {
    "collapsed": false
   },
   "outputs": [
    {
     "data": {
      "text/plain": [
       "(23977, 119007)"
      ]
     },
     "execution_count": 5,
     "metadata": {},
     "output_type": "execute_result"
    }
   ],
   "source": [
    "X.shape"
   ]
  },
  {
   "cell_type": "code",
   "execution_count": 6,
   "metadata": {
    "collapsed": false
   },
   "outputs": [
    {
     "data": {
      "text/plain": [
       "OneVsRestClassifier(estimator=LogisticRegression(C=1.0, class_weight=None, dual=False, fit_intercept=True,\n",
       "          intercept_scaling=1, max_iter=100, multi_class='ovr', n_jobs=1,\n",
       "          penalty='l2', random_state=None, solver='liblinear', tol=0.0001,\n",
       "          verbose=0, warm_start=False),\n",
       "          n_jobs=1)"
      ]
     },
     "execution_count": 6,
     "metadata": {},
     "output_type": "execute_result"
    }
   ],
   "source": [
    "clf = sklearn.multiclass.OneVsRestClassifier(\n",
    "    sklearn.linear_model.LogisticRegression()\n",
    ")\n",
    "clf.fit(X, Y)"
   ]
  },
  {
   "cell_type": "code",
   "execution_count": 7,
   "metadata": {
    "collapsed": false
   },
   "outputs": [],
   "source": [
    "X_tst = vectorizer.transform(tst['bodytext'].values)\n",
    "Y_tst = tst.loc[:, 'OEMC':'TASR'].values\n",
    "\n",
    "Y_hat = clf.predict_proba(X_tst)"
   ]
  },
  {
   "cell_type": "code",
   "execution_count": 8,
   "metadata": {
    "collapsed": false,
    "scrolled": false
   },
   "outputs": [
    {
     "data": {
      "text/html": [
       "<div>\n",
       "<table border=\"1\" class=\"dataframe\">\n",
       "  <thead>\n",
       "    <tr style=\"text-align: right;\">\n",
       "      <th></th>\n",
       "      <th>TP</th>\n",
       "      <th>FP</th>\n",
       "      <th>TN</th>\n",
       "      <th>FN</th>\n",
       "      <th>TPR</th>\n",
       "      <th>FPR</th>\n",
       "      <th>PPV</th>\n",
       "    </tr>\n",
       "  </thead>\n",
       "  <tbody>\n",
       "    <tr>\n",
       "      <th>OEMC</th>\n",
       "      <td>11.0</td>\n",
       "      <td>7.0</td>\n",
       "      <td>10228.0</td>\n",
       "      <td>30.0</td>\n",
       "      <td>0.268293</td>\n",
       "      <td>0.000684</td>\n",
       "      <td>0.611111</td>\n",
       "    </tr>\n",
       "    <tr>\n",
       "      <th>CPD</th>\n",
       "      <td>4531.0</td>\n",
       "      <td>1066.0</td>\n",
       "      <td>3872.0</td>\n",
       "      <td>807.0</td>\n",
       "      <td>0.848820</td>\n",
       "      <td>0.215877</td>\n",
       "      <td>0.809541</td>\n",
       "    </tr>\n",
       "    <tr>\n",
       "      <th>SAO</th>\n",
       "      <td>618.0</td>\n",
       "      <td>263.0</td>\n",
       "      <td>9020.0</td>\n",
       "      <td>375.0</td>\n",
       "      <td>0.622356</td>\n",
       "      <td>0.028331</td>\n",
       "      <td>0.701476</td>\n",
       "    </tr>\n",
       "    <tr>\n",
       "      <th>CCCC</th>\n",
       "      <td>330.0</td>\n",
       "      <td>221.0</td>\n",
       "      <td>9329.0</td>\n",
       "      <td>396.0</td>\n",
       "      <td>0.454545</td>\n",
       "      <td>0.023141</td>\n",
       "      <td>0.598911</td>\n",
       "    </tr>\n",
       "    <tr>\n",
       "      <th>CCJ</th>\n",
       "      <td>124.0</td>\n",
       "      <td>64.0</td>\n",
       "      <td>9973.0</td>\n",
       "      <td>115.0</td>\n",
       "      <td>0.518828</td>\n",
       "      <td>0.006376</td>\n",
       "      <td>0.659574</td>\n",
       "    </tr>\n",
       "    <tr>\n",
       "      <th>CCSP</th>\n",
       "      <td>235.0</td>\n",
       "      <td>74.0</td>\n",
       "      <td>9794.0</td>\n",
       "      <td>173.0</td>\n",
       "      <td>0.575980</td>\n",
       "      <td>0.007499</td>\n",
       "      <td>0.760518</td>\n",
       "    </tr>\n",
       "    <tr>\n",
       "      <th>CPUB</th>\n",
       "      <td>20.0</td>\n",
       "      <td>11.0</td>\n",
       "      <td>10205.0</td>\n",
       "      <td>40.0</td>\n",
       "      <td>0.333333</td>\n",
       "      <td>0.001077</td>\n",
       "      <td>0.645161</td>\n",
       "    </tr>\n",
       "    <tr>\n",
       "      <th>IDOC</th>\n",
       "      <td>43.0</td>\n",
       "      <td>24.0</td>\n",
       "      <td>10164.0</td>\n",
       "      <td>45.0</td>\n",
       "      <td>0.488636</td>\n",
       "      <td>0.002356</td>\n",
       "      <td>0.641791</td>\n",
       "    </tr>\n",
       "    <tr>\n",
       "      <th>DOMV</th>\n",
       "      <td>326.0</td>\n",
       "      <td>88.0</td>\n",
       "      <td>9665.0</td>\n",
       "      <td>197.0</td>\n",
       "      <td>0.623327</td>\n",
       "      <td>0.009023</td>\n",
       "      <td>0.787440</td>\n",
       "    </tr>\n",
       "    <tr>\n",
       "      <th>SEXA</th>\n",
       "      <td>620.0</td>\n",
       "      <td>74.0</td>\n",
       "      <td>9451.0</td>\n",
       "      <td>131.0</td>\n",
       "      <td>0.825566</td>\n",
       "      <td>0.007769</td>\n",
       "      <td>0.893372</td>\n",
       "    </tr>\n",
       "    <tr>\n",
       "      <th>POLB</th>\n",
       "      <td>101.0</td>\n",
       "      <td>26.0</td>\n",
       "      <td>10080.0</td>\n",
       "      <td>69.0</td>\n",
       "      <td>0.594118</td>\n",
       "      <td>0.002573</td>\n",
       "      <td>0.795276</td>\n",
       "    </tr>\n",
       "    <tr>\n",
       "      <th>POLM</th>\n",
       "      <td>188.0</td>\n",
       "      <td>88.0</td>\n",
       "      <td>9870.0</td>\n",
       "      <td>130.0</td>\n",
       "      <td>0.591195</td>\n",
       "      <td>0.008837</td>\n",
       "      <td>0.681159</td>\n",
       "    </tr>\n",
       "    <tr>\n",
       "      <th>GUNV</th>\n",
       "      <td>3612.0</td>\n",
       "      <td>285.0</td>\n",
       "      <td>5946.0</td>\n",
       "      <td>433.0</td>\n",
       "      <td>0.892954</td>\n",
       "      <td>0.045739</td>\n",
       "      <td>0.926867</td>\n",
       "    </tr>\n",
       "    <tr>\n",
       "      <th>GLBTQ</th>\n",
       "      <td>29.0</td>\n",
       "      <td>6.0</td>\n",
       "      <td>10215.0</td>\n",
       "      <td>26.0</td>\n",
       "      <td>0.527273</td>\n",
       "      <td>0.000587</td>\n",
       "      <td>0.828571</td>\n",
       "    </tr>\n",
       "    <tr>\n",
       "      <th>JUVE</th>\n",
       "      <td>541.0</td>\n",
       "      <td>288.0</td>\n",
       "      <td>8862.0</td>\n",
       "      <td>585.0</td>\n",
       "      <td>0.480462</td>\n",
       "      <td>0.031475</td>\n",
       "      <td>0.652593</td>\n",
       "    </tr>\n",
       "    <tr>\n",
       "      <th>REEN</th>\n",
       "      <td>9.0</td>\n",
       "      <td>8.0</td>\n",
       "      <td>10224.0</td>\n",
       "      <td>35.0</td>\n",
       "      <td>0.204545</td>\n",
       "      <td>0.000782</td>\n",
       "      <td>0.529412</td>\n",
       "    </tr>\n",
       "    <tr>\n",
       "      <th>VIOL</th>\n",
       "      <td>3389.0</td>\n",
       "      <td>1182.0</td>\n",
       "      <td>4506.0</td>\n",
       "      <td>1199.0</td>\n",
       "      <td>0.738666</td>\n",
       "      <td>0.207806</td>\n",
       "      <td>0.741413</td>\n",
       "    </tr>\n",
       "    <tr>\n",
       "      <th>BEAT</th>\n",
       "      <td>46.0</td>\n",
       "      <td>31.0</td>\n",
       "      <td>10132.0</td>\n",
       "      <td>67.0</td>\n",
       "      <td>0.407080</td>\n",
       "      <td>0.003050</td>\n",
       "      <td>0.597403</td>\n",
       "    </tr>\n",
       "    <tr>\n",
       "      <th>PROB</th>\n",
       "      <td>36.0</td>\n",
       "      <td>15.0</td>\n",
       "      <td>10162.0</td>\n",
       "      <td>63.0</td>\n",
       "      <td>0.363636</td>\n",
       "      <td>0.001474</td>\n",
       "      <td>0.705882</td>\n",
       "    </tr>\n",
       "    <tr>\n",
       "      <th>PARL</th>\n",
       "      <td>51.0</td>\n",
       "      <td>17.0</td>\n",
       "      <td>10139.0</td>\n",
       "      <td>69.0</td>\n",
       "      <td>0.425000</td>\n",
       "      <td>0.001674</td>\n",
       "      <td>0.750000</td>\n",
       "    </tr>\n",
       "    <tr>\n",
       "      <th>CPLY</th>\n",
       "      <td>50.0</td>\n",
       "      <td>34.0</td>\n",
       "      <td>10081.0</td>\n",
       "      <td>111.0</td>\n",
       "      <td>0.310559</td>\n",
       "      <td>0.003361</td>\n",
       "      <td>0.595238</td>\n",
       "    </tr>\n",
       "    <tr>\n",
       "      <th>DRUG</th>\n",
       "      <td>452.0</td>\n",
       "      <td>120.0</td>\n",
       "      <td>9466.0</td>\n",
       "      <td>238.0</td>\n",
       "      <td>0.655072</td>\n",
       "      <td>0.012518</td>\n",
       "      <td>0.790210</td>\n",
       "    </tr>\n",
       "    <tr>\n",
       "      <th>CPS</th>\n",
       "      <td>208.0</td>\n",
       "      <td>40.0</td>\n",
       "      <td>9938.0</td>\n",
       "      <td>90.0</td>\n",
       "      <td>0.697987</td>\n",
       "      <td>0.004009</td>\n",
       "      <td>0.838710</td>\n",
       "    </tr>\n",
       "    <tr>\n",
       "      <th>GANG</th>\n",
       "      <td>596.0</td>\n",
       "      <td>110.0</td>\n",
       "      <td>9164.0</td>\n",
       "      <td>406.0</td>\n",
       "      <td>0.594810</td>\n",
       "      <td>0.011861</td>\n",
       "      <td>0.844193</td>\n",
       "    </tr>\n",
       "    <tr>\n",
       "      <th>ILSP</th>\n",
       "      <td>121.0</td>\n",
       "      <td>47.0</td>\n",
       "      <td>9990.0</td>\n",
       "      <td>118.0</td>\n",
       "      <td>0.506276</td>\n",
       "      <td>0.004683</td>\n",
       "      <td>0.720238</td>\n",
       "    </tr>\n",
       "    <tr>\n",
       "      <th>HOMI</th>\n",
       "      <td>2737.0</td>\n",
       "      <td>382.0</td>\n",
       "      <td>6668.0</td>\n",
       "      <td>489.0</td>\n",
       "      <td>0.848419</td>\n",
       "      <td>0.054184</td>\n",
       "      <td>0.877525</td>\n",
       "    </tr>\n",
       "    <tr>\n",
       "      <th>IPRA</th>\n",
       "      <td>71.0</td>\n",
       "      <td>26.0</td>\n",
       "      <td>10136.0</td>\n",
       "      <td>43.0</td>\n",
       "      <td>0.622807</td>\n",
       "      <td>0.002559</td>\n",
       "      <td>0.731959</td>\n",
       "    </tr>\n",
       "    <tr>\n",
       "      <th>CPBD</th>\n",
       "      <td>3.0</td>\n",
       "      <td>10.0</td>\n",
       "      <td>10231.0</td>\n",
       "      <td>32.0</td>\n",
       "      <td>0.085714</td>\n",
       "      <td>0.000976</td>\n",
       "      <td>0.230769</td>\n",
       "    </tr>\n",
       "    <tr>\n",
       "      <th>IMMG</th>\n",
       "      <td>29.0</td>\n",
       "      <td>3.0</td>\n",
       "      <td>10230.0</td>\n",
       "      <td>14.0</td>\n",
       "      <td>0.674419</td>\n",
       "      <td>0.000293</td>\n",
       "      <td>0.906250</td>\n",
       "    </tr>\n",
       "    <tr>\n",
       "      <th>ENVI</th>\n",
       "      <td>3.0</td>\n",
       "      <td>1.0</td>\n",
       "      <td>10264.0</td>\n",
       "      <td>8.0</td>\n",
       "      <td>0.272727</td>\n",
       "      <td>0.000097</td>\n",
       "      <td>0.750000</td>\n",
       "    </tr>\n",
       "    <tr>\n",
       "      <th>UNSPC</th>\n",
       "      <td>1572.0</td>\n",
       "      <td>772.0</td>\n",
       "      <td>6662.0</td>\n",
       "      <td>1270.0</td>\n",
       "      <td>0.553132</td>\n",
       "      <td>0.103847</td>\n",
       "      <td>0.670648</td>\n",
       "    </tr>\n",
       "    <tr>\n",
       "      <th>ILSC</th>\n",
       "      <td>13.0</td>\n",
       "      <td>10.0</td>\n",
       "      <td>10227.0</td>\n",
       "      <td>26.0</td>\n",
       "      <td>0.333333</td>\n",
       "      <td>0.000977</td>\n",
       "      <td>0.565217</td>\n",
       "    </tr>\n",
       "    <tr>\n",
       "      <th>ARSN</th>\n",
       "      <td>73.0</td>\n",
       "      <td>6.0</td>\n",
       "      <td>10178.0</td>\n",
       "      <td>19.0</td>\n",
       "      <td>0.793478</td>\n",
       "      <td>0.000589</td>\n",
       "      <td>0.924051</td>\n",
       "    </tr>\n",
       "    <tr>\n",
       "      <th>BURG</th>\n",
       "      <td>218.0</td>\n",
       "      <td>82.0</td>\n",
       "      <td>9799.0</td>\n",
       "      <td>177.0</td>\n",
       "      <td>0.551899</td>\n",
       "      <td>0.008299</td>\n",
       "      <td>0.726667</td>\n",
       "    </tr>\n",
       "    <tr>\n",
       "      <th>DUI</th>\n",
       "      <td>255.0</td>\n",
       "      <td>39.0</td>\n",
       "      <td>9886.0</td>\n",
       "      <td>96.0</td>\n",
       "      <td>0.726496</td>\n",
       "      <td>0.003929</td>\n",
       "      <td>0.867347</td>\n",
       "    </tr>\n",
       "    <tr>\n",
       "      <th>FRUD</th>\n",
       "      <td>311.0</td>\n",
       "      <td>84.0</td>\n",
       "      <td>9727.0</td>\n",
       "      <td>154.0</td>\n",
       "      <td>0.668817</td>\n",
       "      <td>0.008562</td>\n",
       "      <td>0.787342</td>\n",
       "    </tr>\n",
       "    <tr>\n",
       "      <th>ROBB</th>\n",
       "      <td>1066.0</td>\n",
       "      <td>205.0</td>\n",
       "      <td>8615.0</td>\n",
       "      <td>390.0</td>\n",
       "      <td>0.732143</td>\n",
       "      <td>0.023243</td>\n",
       "      <td>0.838710</td>\n",
       "    </tr>\n",
       "    <tr>\n",
       "      <th>TASR</th>\n",
       "      <td>14.0</td>\n",
       "      <td>0.0</td>\n",
       "      <td>10246.0</td>\n",
       "      <td>16.0</td>\n",
       "      <td>0.466667</td>\n",
       "      <td>0.000000</td>\n",
       "      <td>1.000000</td>\n",
       "    </tr>\n",
       "  </tbody>\n",
       "</table>\n",
       "</div>"
      ],
      "text/plain": [
       "           TP      FP       TN      FN       TPR       FPR       PPV\n",
       "OEMC     11.0     7.0  10228.0    30.0  0.268293  0.000684  0.611111\n",
       "CPD    4531.0  1066.0   3872.0   807.0  0.848820  0.215877  0.809541\n",
       "SAO     618.0   263.0   9020.0   375.0  0.622356  0.028331  0.701476\n",
       "CCCC    330.0   221.0   9329.0   396.0  0.454545  0.023141  0.598911\n",
       "CCJ     124.0    64.0   9973.0   115.0  0.518828  0.006376  0.659574\n",
       "CCSP    235.0    74.0   9794.0   173.0  0.575980  0.007499  0.760518\n",
       "CPUB     20.0    11.0  10205.0    40.0  0.333333  0.001077  0.645161\n",
       "IDOC     43.0    24.0  10164.0    45.0  0.488636  0.002356  0.641791\n",
       "DOMV    326.0    88.0   9665.0   197.0  0.623327  0.009023  0.787440\n",
       "SEXA    620.0    74.0   9451.0   131.0  0.825566  0.007769  0.893372\n",
       "POLB    101.0    26.0  10080.0    69.0  0.594118  0.002573  0.795276\n",
       "POLM    188.0    88.0   9870.0   130.0  0.591195  0.008837  0.681159\n",
       "GUNV   3612.0   285.0   5946.0   433.0  0.892954  0.045739  0.926867\n",
       "GLBTQ    29.0     6.0  10215.0    26.0  0.527273  0.000587  0.828571\n",
       "JUVE    541.0   288.0   8862.0   585.0  0.480462  0.031475  0.652593\n",
       "REEN      9.0     8.0  10224.0    35.0  0.204545  0.000782  0.529412\n",
       "VIOL   3389.0  1182.0   4506.0  1199.0  0.738666  0.207806  0.741413\n",
       "BEAT     46.0    31.0  10132.0    67.0  0.407080  0.003050  0.597403\n",
       "PROB     36.0    15.0  10162.0    63.0  0.363636  0.001474  0.705882\n",
       "PARL     51.0    17.0  10139.0    69.0  0.425000  0.001674  0.750000\n",
       "CPLY     50.0    34.0  10081.0   111.0  0.310559  0.003361  0.595238\n",
       "DRUG    452.0   120.0   9466.0   238.0  0.655072  0.012518  0.790210\n",
       "CPS     208.0    40.0   9938.0    90.0  0.697987  0.004009  0.838710\n",
       "GANG    596.0   110.0   9164.0   406.0  0.594810  0.011861  0.844193\n",
       "ILSP    121.0    47.0   9990.0   118.0  0.506276  0.004683  0.720238\n",
       "HOMI   2737.0   382.0   6668.0   489.0  0.848419  0.054184  0.877525\n",
       "IPRA     71.0    26.0  10136.0    43.0  0.622807  0.002559  0.731959\n",
       "CPBD      3.0    10.0  10231.0    32.0  0.085714  0.000976  0.230769\n",
       "IMMG     29.0     3.0  10230.0    14.0  0.674419  0.000293  0.906250\n",
       "ENVI      3.0     1.0  10264.0     8.0  0.272727  0.000097  0.750000\n",
       "UNSPC  1572.0   772.0   6662.0  1270.0  0.553132  0.103847  0.670648\n",
       "ILSC     13.0    10.0  10227.0    26.0  0.333333  0.000977  0.565217\n",
       "ARSN     73.0     6.0  10178.0    19.0  0.793478  0.000589  0.924051\n",
       "BURG    218.0    82.0   9799.0   177.0  0.551899  0.008299  0.726667\n",
       "DUI     255.0    39.0   9886.0    96.0  0.726496  0.003929  0.867347\n",
       "FRUD    311.0    84.0   9727.0   154.0  0.668817  0.008562  0.787342\n",
       "ROBB   1066.0   205.0   8615.0   390.0  0.732143  0.023243  0.838710\n",
       "TASR     14.0     0.0  10246.0    16.0  0.466667  0.000000  1.000000"
      ]
     },
     "execution_count": 8,
     "metadata": {},
     "output_type": "execute_result"
    }
   ],
   "source": [
    "perf = pd.DataFrame()\n",
    "\n",
    "for i in range(Y_hat.shape[1]):\n",
    "    tag = tst.columns[7+i]\n",
    "    perf.loc['TP', tag] = sum((Y_hat[:,i] > .5) & (Y_tst[:,i] == 1))\n",
    "    perf.loc['FP', tag] = sum((Y_hat[:,i] > .5) & (Y_tst[:,i] == 0))\n",
    "    perf.loc['TN', tag] = sum((Y_hat[:,i] < .5) & (Y_tst[:,i] == 0))\n",
    "    perf.loc['FN', tag] = sum((Y_hat[:,i] < .5) & (Y_tst[:,i] == 1))\n",
    "    perf.loc['TPR', tag] = perf.loc['TP', tag] / (perf.loc['TP', tag] + perf.loc['FN', tag])\n",
    "    perf.loc['FPR', tag] = perf.loc['FP', tag] / (perf.loc['FP', tag] + perf.loc['TN', tag])\n",
    "    perf.loc['PPV', tag] = perf.loc['TP', tag] / (perf.loc['TP', tag] + perf.loc['FP', tag])\n",
    "\n",
    "perf = perf.T\n",
    "perf"
   ]
  },
  {
   "cell_type": "code",
   "execution_count": 9,
   "metadata": {
    "collapsed": false
   },
   "outputs": [
    {
     "data": {
      "image/png": "[encoded data removed]",
      "text/plain": [
       "<matplotlib.figure.Figure at 0x2219bf2e9b0>"
      ]
     },
     "metadata": {},
     "output_type": "display_data"
    }
   ],
   "source": [
    "perf['TPR'].plot(kind='bar', ylim=[0,1], width=0.9)\n",
    "plt.ylabel('TPR');"
   ]
  },
  {
   "cell_type": "code",
   "execution_count": 10,
   "metadata": {
    "collapsed": false
   },
   "outputs": [
    {
     "data": {
      "image/png": "[encoded data removed]",
      "text/plain": [
       "<matplotlib.figure.Figure at 0x221fb6f22e8>"
      ]
     },
     "metadata": {},
     "output_type": "display_data"
    }
   ],
   "source": [
    "(1 - perf['FPR']).plot(kind='bar', ylim=[0,1], width=0.9)\n",
    "plt.ylabel('1 - FPR');"
   ]
  },
  {
   "cell_type": "code",
   "execution_count": 11,
   "metadata": {
    "collapsed": false
   },
   "outputs": [
    {
     "data": {
      "image/png": "[encoded data removed]",
      "text/plain": [
       "<matplotlib.figure.Figure at 0x221d6bca978>"
      ]
     },
     "metadata": {},
     "output_type": "display_data"
    }
   ],
   "source": [
    "perf['PPV'].plot(kind='bar', ylim=[0,1], width=0.9)\n",
    "plt.ylabel('PPV');"
   ]
  },
  {
   "cell_type": "code",
   "execution_count": 12,
   "metadata": {
    "collapsed": true
   },
   "outputs": [],
   "source": [
    "import benchmark_tagging as bt"
   ]
  },
  {
   "cell_type": "code",
   "execution_count": 13,
   "metadata": {
    "collapsed": false
   },
   "outputs": [
    {
     "name": "stdout",
     "output_type": "stream",
     "text": [
      "[0.96313515573145847, 0.96366558694997451, 0.96242401519388798, 0.96333060843162444]\n"
     ]
    }
   ],
   "source": [
    "print(bt.benchmark(\n",
    "    lambda: sklearn.multiclass.OneVsRestClassifier(\n",
    "        sklearn.linear_model.LogisticRegression()\n",
    "    ),\n",
    "    vectorizer.transform(crime_df['bodytext'].values),\n",
    "    crime_df.loc[:, 'OEMC':'TASR'].values\n",
    "))"
   ]
  },
  {
   "cell_type": "code",
   "execution_count": 14,
   "metadata": {
    "collapsed": false
   },
   "outputs": [
    {
     "data": {
      "text/plain": [
       "<module 'benchmark_tagging' from 'C:\\\\Users\\\\kevin.rose\\\\Documents\\\\GitHub\\\\cjp-article-tagging\\\\src\\\\benchmark_tagging.py'>"
      ]
     },
     "execution_count": 14,
     "metadata": {},
     "output_type": "execute_result"
    }
   ],
   "source": [
    "from importlib import reload\n",
    "reload(bt)"
   ]
  },
  {
   "cell_type": "code",
   "execution_count": 15,
   "metadata": {
    "collapsed": false
   },
   "outputs": [
    {
     "data": {
      "text/plain": [
       "0.96313884157673635"
      ]
     },
     "execution_count": 15,
     "metadata": {},
     "output_type": "execute_result"
    }
   ],
   "source": [
    "np.mean([0.96313515573145847, 0.96366558694997451, 0.96242401519388798, 0.96333060843162444])"
   ]
  },
  {
   "cell_type": "code",
   "execution_count": null,
   "metadata": {
    "collapsed": true
   },
   "outputs": [],
   "source": []
  }
 ],
 "metadata": {
  "anaconda-cloud": {},
  "kernelspec": {
   "display_name": "Python [conda env:py35]",
   "language": "python",
   "name": "conda-env-py35-py"
  },
  "language_info": {
   "codemirror_mode": {
    "name": "ipython",
    "version": 3
   },
   "file_extension": ".py",
   "mimetype": "text/x-python",
   "name": "python",
   "nbconvert_exporter": "python",
   "pygments_lexer": "ipython3",
   "version": "3.5.2"
  }
 },
 "nbformat": 4,
 "nbformat_minor": 2
}
