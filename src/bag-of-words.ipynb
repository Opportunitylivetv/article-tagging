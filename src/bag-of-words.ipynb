{
 "cells": [
  {
   "cell_type": "code",
   "execution_count": 1,
   "metadata": {
    "collapsed": true
   },
   "outputs": [],
   "source": [
    "import load_data as ld\n",
    "import matplotlib\n",
    "import matplotlib.pyplot as plt\n",
    "import seaborn as sns\n",
    "import numpy as np\n",
    "import pandas as pd\n",
    "import sklearn\n",
    "import sklearn.feature_extraction.text\n",
    "import sklearn.multiclass\n",
    "import sklearn.linear_model\n",
    "% matplotlib inline\n",
    "plt.rcParams['figure.figsize'] = 12, 8"
   ]
  },
  {
   "cell_type": "code",
   "execution_count": 2,
   "metadata": {
    "collapsed": false
   },
   "outputs": [
    {
     "name": "stderr",
     "output_type": "stream",
     "text": [
      "C:\\Users\\kevin.rose\\AppData\\Local\\Continuum\\Anaconda2\\envs\\py35\\lib\\site-packages\\IPython\\core\\interactiveshell.py:2881: DtypeWarning: Columns (3) have mixed types. Specify dtype option on import or set low_memory=False.\n",
      "  exec(code_obj, self.user_global_ns, self.user_ns)\n"
     ]
    }
   ],
   "source": [
    "df = ld.load_data()"
   ]
  },
  {
   "cell_type": "code",
   "execution_count": 3,
   "metadata": {
    "collapsed": false
   },
   "outputs": [
    {
     "name": "stdout",
     "output_type": "stream",
     "text": [
      "(112091, 45)\n",
      "(34253, 45)\n",
      "(23977, 45)\n",
      "(10276, 45)\n"
     ]
    }
   ],
   "source": [
    "crime_df = df.ix[df['relevant'], :]\n",
    "print(crime_df.shape)\n",
    "crime_df = crime_df.ix[crime_df.loc[:, 'OEMC':'TASR'].any(1), :]\n",
    "print(crime_df.shape)\n",
    "\n",
    "idx = np.random.permutation(crime_df.shape[0])\n",
    "trn = crime_df.iloc[idx[:int(crime_df.shape[0] * 0.7)], :]\n",
    "tst = crime_df.iloc[idx[int(crime_df.shape[0] * 0.7):], :]\n",
    "print(trn.shape)\n",
    "print(tst.shape)"
   ]
  },
  {
   "cell_type": "code",
   "execution_count": 4,
   "metadata": {
    "collapsed": false
   },
   "outputs": [],
   "source": [
    "# vectorize data\n",
    "vectorizer = sklearn.feature_extraction.text.CountVectorizer(min_df=1)\n",
    "X = vectorizer.fit_transform(trn['bodytext'].values)\n",
    "\n",
    "Y = trn.loc[:, 'OEMC':'TASR'].values"
   ]
  },
  {
   "cell_type": "code",
   "execution_count": 5,
   "metadata": {
    "collapsed": false
   },
   "outputs": [
    {
     "data": {
      "text/plain": [
       "(23977, 119872)"
      ]
     },
     "execution_count": 5,
     "metadata": {},
     "output_type": "execute_result"
    }
   ],
   "source": [
    "X.shape"
   ]
  },
  {
   "cell_type": "code",
   "execution_count": 6,
   "metadata": {
    "collapsed": false
   },
   "outputs": [
    {
     "data": {
      "text/plain": [
       "OneVsRestClassifier(estimator=LogisticRegression(C=1.0, class_weight=None, dual=False, fit_intercept=True,\n",
       "          intercept_scaling=1, max_iter=100, multi_class='ovr', n_jobs=1,\n",
       "          penalty='l2', random_state=None, solver='liblinear', tol=0.0001,\n",
       "          verbose=0, warm_start=False),\n",
       "          n_jobs=1)"
      ]
     },
     "execution_count": 6,
     "metadata": {},
     "output_type": "execute_result"
    }
   ],
   "source": [
    "clf = sklearn.multiclass.OneVsRestClassifier(\n",
    "    sklearn.linear_model.LogisticRegression()\n",
    ")\n",
    "clf.fit(X, Y)"
   ]
  },
  {
   "cell_type": "code",
   "execution_count": 7,
   "metadata": {
    "collapsed": false
   },
   "outputs": [],
   "source": [
    "X_tst = vectorizer.transform(tst['bodytext'].values)\n",
    "Y_tst = tst.loc[:, 'OEMC':'TASR'].values\n",
    "\n",
    "Y_hat = clf.predict_proba(X_tst)"
   ]
  },
  {
   "cell_type": "code",
   "execution_count": 8,
   "metadata": {
    "collapsed": false,
    "scrolled": false
   },
   "outputs": [
    {
     "data": {
      "text/html": [
       "<div>\n",
       "<table border=\"1\" class=\"dataframe\">\n",
       "  <thead>\n",
       "    <tr style=\"text-align: right;\">\n",
       "      <th></th>\n",
       "      <th>TP</th>\n",
       "      <th>FP</th>\n",
       "      <th>TN</th>\n",
       "      <th>FN</th>\n",
       "      <th>TPR</th>\n",
       "      <th>FPR</th>\n",
       "      <th>PPV</th>\n",
       "    </tr>\n",
       "  </thead>\n",
       "  <tbody>\n",
       "    <tr>\n",
       "      <th>OEMC</th>\n",
       "      <td>5.0</td>\n",
       "      <td>3.0</td>\n",
       "      <td>10235.0</td>\n",
       "      <td>33.0</td>\n",
       "      <td>0.131579</td>\n",
       "      <td>0.000293</td>\n",
       "      <td>0.625000</td>\n",
       "    </tr>\n",
       "    <tr>\n",
       "      <th>CPD</th>\n",
       "      <td>4501.0</td>\n",
       "      <td>1095.0</td>\n",
       "      <td>3879.0</td>\n",
       "      <td>801.0</td>\n",
       "      <td>0.848925</td>\n",
       "      <td>0.220145</td>\n",
       "      <td>0.804325</td>\n",
       "    </tr>\n",
       "    <tr>\n",
       "      <th>SAO</th>\n",
       "      <td>599.0</td>\n",
       "      <td>266.0</td>\n",
       "      <td>9036.0</td>\n",
       "      <td>375.0</td>\n",
       "      <td>0.614990</td>\n",
       "      <td>0.028596</td>\n",
       "      <td>0.692486</td>\n",
       "    </tr>\n",
       "    <tr>\n",
       "      <th>CCCC</th>\n",
       "      <td>376.0</td>\n",
       "      <td>239.0</td>\n",
       "      <td>9239.0</td>\n",
       "      <td>422.0</td>\n",
       "      <td>0.471178</td>\n",
       "      <td>0.025216</td>\n",
       "      <td>0.611382</td>\n",
       "    </tr>\n",
       "    <tr>\n",
       "      <th>CCJ</th>\n",
       "      <td>137.0</td>\n",
       "      <td>41.0</td>\n",
       "      <td>9964.0</td>\n",
       "      <td>134.0</td>\n",
       "      <td>0.505535</td>\n",
       "      <td>0.004098</td>\n",
       "      <td>0.769663</td>\n",
       "    </tr>\n",
       "    <tr>\n",
       "      <th>CCSP</th>\n",
       "      <td>261.0</td>\n",
       "      <td>78.0</td>\n",
       "      <td>9771.0</td>\n",
       "      <td>166.0</td>\n",
       "      <td>0.611241</td>\n",
       "      <td>0.007920</td>\n",
       "      <td>0.769912</td>\n",
       "    </tr>\n",
       "    <tr>\n",
       "      <th>CPUB</th>\n",
       "      <td>28.0</td>\n",
       "      <td>10.0</td>\n",
       "      <td>10204.0</td>\n",
       "      <td>34.0</td>\n",
       "      <td>0.451613</td>\n",
       "      <td>0.000979</td>\n",
       "      <td>0.736842</td>\n",
       "    </tr>\n",
       "    <tr>\n",
       "      <th>IDOC</th>\n",
       "      <td>30.0</td>\n",
       "      <td>17.0</td>\n",
       "      <td>10182.0</td>\n",
       "      <td>47.0</td>\n",
       "      <td>0.389610</td>\n",
       "      <td>0.001667</td>\n",
       "      <td>0.638298</td>\n",
       "    </tr>\n",
       "    <tr>\n",
       "      <th>DOMV</th>\n",
       "      <td>312.0</td>\n",
       "      <td>132.0</td>\n",
       "      <td>9645.0</td>\n",
       "      <td>187.0</td>\n",
       "      <td>0.625251</td>\n",
       "      <td>0.013501</td>\n",
       "      <td>0.702703</td>\n",
       "    </tr>\n",
       "    <tr>\n",
       "      <th>SEXA</th>\n",
       "      <td>611.0</td>\n",
       "      <td>56.0</td>\n",
       "      <td>9490.0</td>\n",
       "      <td>119.0</td>\n",
       "      <td>0.836986</td>\n",
       "      <td>0.005866</td>\n",
       "      <td>0.916042</td>\n",
       "    </tr>\n",
       "    <tr>\n",
       "      <th>POLB</th>\n",
       "      <td>99.0</td>\n",
       "      <td>43.0</td>\n",
       "      <td>10068.0</td>\n",
       "      <td>66.0</td>\n",
       "      <td>0.600000</td>\n",
       "      <td>0.004253</td>\n",
       "      <td>0.697183</td>\n",
       "    </tr>\n",
       "    <tr>\n",
       "      <th>POLM</th>\n",
       "      <td>186.0</td>\n",
       "      <td>79.0</td>\n",
       "      <td>9885.0</td>\n",
       "      <td>126.0</td>\n",
       "      <td>0.596154</td>\n",
       "      <td>0.007929</td>\n",
       "      <td>0.701887</td>\n",
       "    </tr>\n",
       "    <tr>\n",
       "      <th>GUNV</th>\n",
       "      <td>3564.0</td>\n",
       "      <td>302.0</td>\n",
       "      <td>6026.0</td>\n",
       "      <td>384.0</td>\n",
       "      <td>0.902736</td>\n",
       "      <td>0.047724</td>\n",
       "      <td>0.921883</td>\n",
       "    </tr>\n",
       "    <tr>\n",
       "      <th>GLBTQ</th>\n",
       "      <td>28.0</td>\n",
       "      <td>10.0</td>\n",
       "      <td>10214.0</td>\n",
       "      <td>24.0</td>\n",
       "      <td>0.538462</td>\n",
       "      <td>0.000978</td>\n",
       "      <td>0.736842</td>\n",
       "    </tr>\n",
       "    <tr>\n",
       "      <th>JUVE</th>\n",
       "      <td>479.0</td>\n",
       "      <td>251.0</td>\n",
       "      <td>8946.0</td>\n",
       "      <td>600.0</td>\n",
       "      <td>0.443930</td>\n",
       "      <td>0.027292</td>\n",
       "      <td>0.656164</td>\n",
       "    </tr>\n",
       "    <tr>\n",
       "      <th>REEN</th>\n",
       "      <td>8.0</td>\n",
       "      <td>12.0</td>\n",
       "      <td>10227.0</td>\n",
       "      <td>29.0</td>\n",
       "      <td>0.216216</td>\n",
       "      <td>0.001172</td>\n",
       "      <td>0.400000</td>\n",
       "    </tr>\n",
       "    <tr>\n",
       "      <th>VIOL</th>\n",
       "      <td>3368.0</td>\n",
       "      <td>1205.0</td>\n",
       "      <td>4550.0</td>\n",
       "      <td>1153.0</td>\n",
       "      <td>0.744968</td>\n",
       "      <td>0.209383</td>\n",
       "      <td>0.736497</td>\n",
       "    </tr>\n",
       "    <tr>\n",
       "      <th>BEAT</th>\n",
       "      <td>40.0</td>\n",
       "      <td>25.0</td>\n",
       "      <td>10147.0</td>\n",
       "      <td>64.0</td>\n",
       "      <td>0.384615</td>\n",
       "      <td>0.002458</td>\n",
       "      <td>0.615385</td>\n",
       "    </tr>\n",
       "    <tr>\n",
       "      <th>PROB</th>\n",
       "      <td>43.0</td>\n",
       "      <td>23.0</td>\n",
       "      <td>10161.0</td>\n",
       "      <td>49.0</td>\n",
       "      <td>0.467391</td>\n",
       "      <td>0.002258</td>\n",
       "      <td>0.651515</td>\n",
       "    </tr>\n",
       "    <tr>\n",
       "      <th>PARL</th>\n",
       "      <td>46.0</td>\n",
       "      <td>18.0</td>\n",
       "      <td>10152.0</td>\n",
       "      <td>60.0</td>\n",
       "      <td>0.433962</td>\n",
       "      <td>0.001770</td>\n",
       "      <td>0.718750</td>\n",
       "    </tr>\n",
       "    <tr>\n",
       "      <th>CPLY</th>\n",
       "      <td>48.0</td>\n",
       "      <td>51.0</td>\n",
       "      <td>10090.0</td>\n",
       "      <td>87.0</td>\n",
       "      <td>0.355556</td>\n",
       "      <td>0.005029</td>\n",
       "      <td>0.484848</td>\n",
       "    </tr>\n",
       "    <tr>\n",
       "      <th>DRUG</th>\n",
       "      <td>436.0</td>\n",
       "      <td>108.0</td>\n",
       "      <td>9489.0</td>\n",
       "      <td>243.0</td>\n",
       "      <td>0.642121</td>\n",
       "      <td>0.011254</td>\n",
       "      <td>0.801471</td>\n",
       "    </tr>\n",
       "    <tr>\n",
       "      <th>CPS</th>\n",
       "      <td>182.0</td>\n",
       "      <td>33.0</td>\n",
       "      <td>9948.0</td>\n",
       "      <td>113.0</td>\n",
       "      <td>0.616949</td>\n",
       "      <td>0.003306</td>\n",
       "      <td>0.846512</td>\n",
       "    </tr>\n",
       "    <tr>\n",
       "      <th>GANG</th>\n",
       "      <td>599.0</td>\n",
       "      <td>127.0</td>\n",
       "      <td>9144.0</td>\n",
       "      <td>406.0</td>\n",
       "      <td>0.596020</td>\n",
       "      <td>0.013699</td>\n",
       "      <td>0.825069</td>\n",
       "    </tr>\n",
       "    <tr>\n",
       "      <th>ILSP</th>\n",
       "      <td>140.0</td>\n",
       "      <td>47.0</td>\n",
       "      <td>9990.0</td>\n",
       "      <td>99.0</td>\n",
       "      <td>0.585774</td>\n",
       "      <td>0.004683</td>\n",
       "      <td>0.748663</td>\n",
       "    </tr>\n",
       "    <tr>\n",
       "      <th>HOMI</th>\n",
       "      <td>2691.0</td>\n",
       "      <td>340.0</td>\n",
       "      <td>6720.0</td>\n",
       "      <td>525.0</td>\n",
       "      <td>0.836754</td>\n",
       "      <td>0.048159</td>\n",
       "      <td>0.887826</td>\n",
       "    </tr>\n",
       "    <tr>\n",
       "      <th>IPRA</th>\n",
       "      <td>69.0</td>\n",
       "      <td>27.0</td>\n",
       "      <td>10135.0</td>\n",
       "      <td>45.0</td>\n",
       "      <td>0.605263</td>\n",
       "      <td>0.002657</td>\n",
       "      <td>0.718750</td>\n",
       "    </tr>\n",
       "    <tr>\n",
       "      <th>CPBD</th>\n",
       "      <td>3.0</td>\n",
       "      <td>13.0</td>\n",
       "      <td>10219.0</td>\n",
       "      <td>41.0</td>\n",
       "      <td>0.068182</td>\n",
       "      <td>0.001271</td>\n",
       "      <td>0.187500</td>\n",
       "    </tr>\n",
       "    <tr>\n",
       "      <th>IMMG</th>\n",
       "      <td>27.0</td>\n",
       "      <td>5.0</td>\n",
       "      <td>10226.0</td>\n",
       "      <td>18.0</td>\n",
       "      <td>0.600000</td>\n",
       "      <td>0.000489</td>\n",
       "      <td>0.843750</td>\n",
       "    </tr>\n",
       "    <tr>\n",
       "      <th>ENVI</th>\n",
       "      <td>8.0</td>\n",
       "      <td>0.0</td>\n",
       "      <td>10267.0</td>\n",
       "      <td>1.0</td>\n",
       "      <td>0.888889</td>\n",
       "      <td>0.000000</td>\n",
       "      <td>1.000000</td>\n",
       "    </tr>\n",
       "    <tr>\n",
       "      <th>UNSPC</th>\n",
       "      <td>1661.0</td>\n",
       "      <td>896.0</td>\n",
       "      <td>6620.0</td>\n",
       "      <td>1099.0</td>\n",
       "      <td>0.601812</td>\n",
       "      <td>0.119212</td>\n",
       "      <td>0.649589</td>\n",
       "    </tr>\n",
       "    <tr>\n",
       "      <th>ILSC</th>\n",
       "      <td>15.0</td>\n",
       "      <td>12.0</td>\n",
       "      <td>10215.0</td>\n",
       "      <td>34.0</td>\n",
       "      <td>0.306122</td>\n",
       "      <td>0.001173</td>\n",
       "      <td>0.555556</td>\n",
       "    </tr>\n",
       "    <tr>\n",
       "      <th>ARSN</th>\n",
       "      <td>69.0</td>\n",
       "      <td>17.0</td>\n",
       "      <td>10167.0</td>\n",
       "      <td>23.0</td>\n",
       "      <td>0.750000</td>\n",
       "      <td>0.001669</td>\n",
       "      <td>0.802326</td>\n",
       "    </tr>\n",
       "    <tr>\n",
       "      <th>BURG</th>\n",
       "      <td>228.0</td>\n",
       "      <td>65.0</td>\n",
       "      <td>9799.0</td>\n",
       "      <td>184.0</td>\n",
       "      <td>0.553398</td>\n",
       "      <td>0.006590</td>\n",
       "      <td>0.778157</td>\n",
       "    </tr>\n",
       "    <tr>\n",
       "      <th>DUI</th>\n",
       "      <td>287.0</td>\n",
       "      <td>36.0</td>\n",
       "      <td>9875.0</td>\n",
       "      <td>78.0</td>\n",
       "      <td>0.786301</td>\n",
       "      <td>0.003632</td>\n",
       "      <td>0.888545</td>\n",
       "    </tr>\n",
       "    <tr>\n",
       "      <th>FRUD</th>\n",
       "      <td>309.0</td>\n",
       "      <td>79.0</td>\n",
       "      <td>9727.0</td>\n",
       "      <td>161.0</td>\n",
       "      <td>0.657447</td>\n",
       "      <td>0.008056</td>\n",
       "      <td>0.796392</td>\n",
       "    </tr>\n",
       "    <tr>\n",
       "      <th>ROBB</th>\n",
       "      <td>1050.0</td>\n",
       "      <td>205.0</td>\n",
       "      <td>8640.0</td>\n",
       "      <td>381.0</td>\n",
       "      <td>0.733753</td>\n",
       "      <td>0.023177</td>\n",
       "      <td>0.836653</td>\n",
       "    </tr>\n",
       "    <tr>\n",
       "      <th>TASR</th>\n",
       "      <td>21.0</td>\n",
       "      <td>3.0</td>\n",
       "      <td>10235.0</td>\n",
       "      <td>17.0</td>\n",
       "      <td>0.552632</td>\n",
       "      <td>0.000293</td>\n",
       "      <td>0.875000</td>\n",
       "    </tr>\n",
       "  </tbody>\n",
       "</table>\n",
       "</div>"
      ],
      "text/plain": [
       "           TP      FP       TN      FN       TPR       FPR       PPV\n",
       "OEMC      5.0     3.0  10235.0    33.0  0.131579  0.000293  0.625000\n",
       "CPD    4501.0  1095.0   3879.0   801.0  0.848925  0.220145  0.804325\n",
       "SAO     599.0   266.0   9036.0   375.0  0.614990  0.028596  0.692486\n",
       "CCCC    376.0   239.0   9239.0   422.0  0.471178  0.025216  0.611382\n",
       "CCJ     137.0    41.0   9964.0   134.0  0.505535  0.004098  0.769663\n",
       "CCSP    261.0    78.0   9771.0   166.0  0.611241  0.007920  0.769912\n",
       "CPUB     28.0    10.0  10204.0    34.0  0.451613  0.000979  0.736842\n",
       "IDOC     30.0    17.0  10182.0    47.0  0.389610  0.001667  0.638298\n",
       "DOMV    312.0   132.0   9645.0   187.0  0.625251  0.013501  0.702703\n",
       "SEXA    611.0    56.0   9490.0   119.0  0.836986  0.005866  0.916042\n",
       "POLB     99.0    43.0  10068.0    66.0  0.600000  0.004253  0.697183\n",
       "POLM    186.0    79.0   9885.0   126.0  0.596154  0.007929  0.701887\n",
       "GUNV   3564.0   302.0   6026.0   384.0  0.902736  0.047724  0.921883\n",
       "GLBTQ    28.0    10.0  10214.0    24.0  0.538462  0.000978  0.736842\n",
       "JUVE    479.0   251.0   8946.0   600.0  0.443930  0.027292  0.656164\n",
       "REEN      8.0    12.0  10227.0    29.0  0.216216  0.001172  0.400000\n",
       "VIOL   3368.0  1205.0   4550.0  1153.0  0.744968  0.209383  0.736497\n",
       "BEAT     40.0    25.0  10147.0    64.0  0.384615  0.002458  0.615385\n",
       "PROB     43.0    23.0  10161.0    49.0  0.467391  0.002258  0.651515\n",
       "PARL     46.0    18.0  10152.0    60.0  0.433962  0.001770  0.718750\n",
       "CPLY     48.0    51.0  10090.0    87.0  0.355556  0.005029  0.484848\n",
       "DRUG    436.0   108.0   9489.0   243.0  0.642121  0.011254  0.801471\n",
       "CPS     182.0    33.0   9948.0   113.0  0.616949  0.003306  0.846512\n",
       "GANG    599.0   127.0   9144.0   406.0  0.596020  0.013699  0.825069\n",
       "ILSP    140.0    47.0   9990.0    99.0  0.585774  0.004683  0.748663\n",
       "HOMI   2691.0   340.0   6720.0   525.0  0.836754  0.048159  0.887826\n",
       "IPRA     69.0    27.0  10135.0    45.0  0.605263  0.002657  0.718750\n",
       "CPBD      3.0    13.0  10219.0    41.0  0.068182  0.001271  0.187500\n",
       "IMMG     27.0     5.0  10226.0    18.0  0.600000  0.000489  0.843750\n",
       "ENVI      8.0     0.0  10267.0     1.0  0.888889  0.000000  1.000000\n",
       "UNSPC  1661.0   896.0   6620.0  1099.0  0.601812  0.119212  0.649589\n",
       "ILSC     15.0    12.0  10215.0    34.0  0.306122  0.001173  0.555556\n",
       "ARSN     69.0    17.0  10167.0    23.0  0.750000  0.001669  0.802326\n",
       "BURG    228.0    65.0   9799.0   184.0  0.553398  0.006590  0.778157\n",
       "DUI     287.0    36.0   9875.0    78.0  0.786301  0.003632  0.888545\n",
       "FRUD    309.0    79.0   9727.0   161.0  0.657447  0.008056  0.796392\n",
       "ROBB   1050.0   205.0   8640.0   381.0  0.733753  0.023177  0.836653\n",
       "TASR     21.0     3.0  10235.0    17.0  0.552632  0.000293  0.875000"
      ]
     },
     "execution_count": 8,
     "metadata": {},
     "output_type": "execute_result"
    }
   ],
   "source": [
    "perf = pd.DataFrame()\n",
    "\n",
    "for i in range(Y_hat.shape[1]):\n",
    "    tag = tst.columns[7+i]\n",
    "    perf.loc['TP', tag] = sum((Y_hat[:,i] > .5) & (Y_tst[:,i] == 1))\n",
    "    perf.loc['FP', tag] = sum((Y_hat[:,i] > .5) & (Y_tst[:,i] == 0))\n",
    "    perf.loc['TN', tag] = sum((Y_hat[:,i] < .5) & (Y_tst[:,i] == 0))\n",
    "    perf.loc['FN', tag] = sum((Y_hat[:,i] < .5) & (Y_tst[:,i] == 1))\n",
    "    perf.loc['TPR', tag] = perf.loc['TP', tag] / (perf.loc['TP', tag] + perf.loc['FN', tag])\n",
    "    perf.loc['FPR', tag] = perf.loc['FP', tag] / (perf.loc['FP', tag] + perf.loc['TN', tag])\n",
    "    perf.loc['PPV', tag] = perf.loc['TP', tag] / (perf.loc['TP', tag] + perf.loc['FP', tag])\n",
    "\n",
    "perf = perf.T\n",
    "perf"
   ]
  },
  {
   "cell_type": "code",
   "execution_count": 15,
   "metadata": {
    "collapsed": false
   },
   "outputs": [
    {
     "data": {
      "image/png": "[encoded data removed]",
      "text/plain": [
       "<matplotlib.figure.Figure at 0x236b5e8ef60>"
      ]
     },
     "metadata": {},
     "output_type": "display_data"
    }
   ],
   "source": [
    "perf['TPR'].plot(kind='bar', ylim=[0,1], width=0.9)\n",
    "plt.ylabel('TPR');"
   ]
  },
  {
   "cell_type": "code",
   "execution_count": 16,
   "metadata": {
    "collapsed": false
   },
   "outputs": [
    {
     "data": {
      "image/png": "[encoded data removed]",
      "text/plain": [
       "<matplotlib.figure.Figure at 0x236b414dc88>"
      ]
     },
     "metadata": {},
     "output_type": "display_data"
    }
   ],
   "source": [
    "(1 - perf['FPR']).plot(kind='bar', ylim=[0,1], width=0.9)\n",
    "plt.ylabel('1 - FPR');"
   ]
  },
  {
   "cell_type": "code",
   "execution_count": 17,
   "metadata": {
    "collapsed": false
   },
   "outputs": [
    {
     "data": {
      "image/png": "[encoded data removed]",
      "text/plain": [
       "<matplotlib.figure.Figure at 0x236b48b9f98>"
      ]
     },
     "metadata": {},
     "output_type": "display_data"
    }
   ],
   "source": [
    "perf['PPV'].plot(kind='bar', ylim=[0,1], width=0.9)\n",
    "plt.ylabel('PPV');"
   ]
  },
  {
   "cell_type": "code",
   "execution_count": 13,
   "metadata": {
    "collapsed": true
   },
   "outputs": [],
   "source": [
    "import benchmark_tagging as bt"
   ]
  },
  {
   "cell_type": "code",
   "execution_count": 19,
   "metadata": {
    "collapsed": false
   },
   "outputs": [
    {
     "name": "stdout",
     "output_type": "stream",
     "text": [
      "[0.96304604341306321, 0.96346275592051478, 0.96253157710344994, 0.96292187317528899]\n"
     ]
    }
   ],
   "source": [
    "print(bt.benchmark(\n",
    "    lambda: sklearn.multiclass.OneVsRestClassifier(\n",
    "        sklearn.linear_model.LogisticRegression()\n",
    "    ),\n",
    "    vectorizer.transform(crime_df['bodytext'].values),\n",
    "    crime_df.loc[:, 'OEMC':'TASR'].values\n",
    "))"
   ]
  },
  {
   "cell_type": "code",
   "execution_count": 18,
   "metadata": {
    "collapsed": false
   },
   "outputs": [
    {
     "data": {
      "text/plain": [
       "<module 'benchmark_tagging' from 'C:\\\\Users\\\\kevin.rose\\\\Documents\\\\GitHub\\\\cjp-article-tagging\\\\src\\\\benchmark_tagging.py'>"
      ]
     },
     "execution_count": 18,
     "metadata": {},
     "output_type": "execute_result"
    }
   ],
   "source": [
    "from importlib import reload\n",
    "reload(bt)"
   ]
  },
  {
   "cell_type": "code",
   "execution_count": null,
   "metadata": {
    "collapsed": true
   },
   "outputs": [],
   "source": []
  }
 ],
 "metadata": {
  "anaconda-cloud": {},
  "kernelspec": {
   "display_name": "Python [conda env:py35]",
   "language": "python",
   "name": "conda-env-py35-py"
  },
  "language_info": {
   "codemirror_mode": {
    "name": "ipython",
    "version": 3
   },
   "file_extension": ".py",
   "mimetype": "text/x-python",
   "name": "python",
   "nbconvert_exporter": "python",
   "pygments_lexer": "ipython3",
   "version": "3.5.2"
  }
 },
 "nbformat": 4,
 "nbformat_minor": 2
}
