{
 "cells": [
  {
   "cell_type": "code",
   "execution_count": 23,
   "metadata": {
    "collapsed": false
   },
   "outputs": [],
   "source": [
    "import load_data as ld\n",
    "import matplotlib\n",
    "import matplotlib.pyplot as plt\n",
    "import numpy as np\n",
    "import pandas as pd\n",
    "import sklearn.feature_extraction.text\n",
    "import sklearn.multiclass\n",
    "import sklearn.linear_model\n",
    "% matplotlib inline\n",
    "plt.rcParams['figure.figsize'] = 12, 8"
   ]
  },
  {
   "cell_type": "code",
   "execution_count": 2,
   "metadata": {
    "collapsed": false
   },
   "outputs": [
    {
     "name": "stderr",
     "output_type": "stream",
     "text": [
      "C:\\Users\\kevin.rose\\AppData\\Local\\Continuum\\Anaconda2\\envs\\py35\\lib\\site-packages\\IPython\\core\\interactiveshell.py:2881: DtypeWarning: Columns (3) have mixed types. Specify dtype option on import or set low_memory=False.\n",
      "  exec(code_obj, self.user_global_ns, self.user_ns)\n"
     ]
    }
   ],
   "source": [
    "df = ld.load_data()"
   ]
  },
  {
   "cell_type": "code",
   "execution_count": 3,
   "metadata": {
    "collapsed": false
   },
   "outputs": [
    {
     "name": "stdout",
     "output_type": "stream",
     "text": [
      "(112091, 45)\n",
      "(34253, 45)\n",
      "(23977, 45)\n",
      "(10276, 45)\n"
     ]
    }
   ],
   "source": [
    "crime_df = df.ix[df['relevant'], :]\n",
    "print(crime_df.shape)\n",
    "crime_df = crime_df.ix[crime_df.loc[:, 'OEMC':'TASR'].any(1), :]\n",
    "print(crime_df.shape)\n",
    "\n",
    "idx = np.random.permutation(crime_df.shape[0])\n",
    "trn = crime_df.iloc[idx[:int(crime_df.shape[0] * 0.7)], :]\n",
    "tst = crime_df.iloc[idx[int(crime_df.shape[0] * 0.7):], :]\n",
    "print(trn.shape)\n",
    "print(tst.shape)"
   ]
  },
  {
   "cell_type": "code",
   "execution_count": 4,
   "metadata": {
    "collapsed": false
   },
   "outputs": [],
   "source": [
    "# vectorize data\n",
    "vectorizer = sklearn.feature_extraction.text.CountVectorizer(min_df=1)\n",
    "X = vectorizer.fit_transform(trn['bodytext'].values)\n",
    "\n",
    "tfidf_transformer = sklearn.feature_extraction.text.TfidfTransformer(use_idf=True)\n",
    "X = tfidf_transformer.fit_transform(X)\n",
    "\n",
    "Y = trn.loc[:, 'OEMC':'TASR'].values"
   ]
  },
  {
   "cell_type": "code",
   "execution_count": 5,
   "metadata": {
    "collapsed": false
   },
   "outputs": [
    {
     "data": {
      "text/plain": [
       "(23977, 119052)"
      ]
     },
     "execution_count": 5,
     "metadata": {},
     "output_type": "execute_result"
    }
   ],
   "source": [
    "X.shape"
   ]
  },
  {
   "cell_type": "code",
   "execution_count": 6,
   "metadata": {
    "collapsed": false
   },
   "outputs": [
    {
     "data": {
      "text/plain": [
       "OneVsRestClassifier(estimator=LogisticRegression(C=1.0, class_weight=None, dual=False, fit_intercept=True,\n",
       "          intercept_scaling=1, max_iter=100, multi_class='ovr', n_jobs=1,\n",
       "          penalty='l2', random_state=None, solver='liblinear', tol=0.0001,\n",
       "          verbose=0, warm_start=False),\n",
       "          n_jobs=1)"
      ]
     },
     "execution_count": 6,
     "metadata": {},
     "output_type": "execute_result"
    }
   ],
   "source": [
    "clf = sklearn.multiclass.OneVsRestClassifier(\n",
    "    sklearn.linear_model.LogisticRegression()\n",
    ")\n",
    "clf.fit(X, Y)"
   ]
  },
  {
   "cell_type": "code",
   "execution_count": 7,
   "metadata": {
    "collapsed": false
   },
   "outputs": [],
   "source": [
    "X_tst = tfidf_transformer.transform(vectorizer.transform(tst['bodytext'].values))\n",
    "Y_tst = tst.loc[:, 'OEMC':'TASR'].values\n",
    "\n",
    "Y_hat = clf.predict_proba(X_tst)"
   ]
  },
  {
   "cell_type": "code",
   "execution_count": 8,
   "metadata": {
    "collapsed": false,
    "scrolled": false
   },
   "outputs": [
    {
     "data": {
      "text/html": [
       "<div>\n",
       "<table border=\"1\" class=\"dataframe\">\n",
       "  <thead>\n",
       "    <tr style=\"text-align: right;\">\n",
       "      <th></th>\n",
       "      <th>TP</th>\n",
       "      <th>FP</th>\n",
       "      <th>TN</th>\n",
       "      <th>FN</th>\n",
       "      <th>TPR</th>\n",
       "      <th>FPR</th>\n",
       "      <th>PPV</th>\n",
       "    </tr>\n",
       "  </thead>\n",
       "  <tbody>\n",
       "    <tr>\n",
       "      <th>OEMC</th>\n",
       "      <td>0.0</td>\n",
       "      <td>0.0</td>\n",
       "      <td>10233.0</td>\n",
       "      <td>43.0</td>\n",
       "      <td>0.000000</td>\n",
       "      <td>0.000000</td>\n",
       "      <td>NaN</td>\n",
       "    </tr>\n",
       "    <tr>\n",
       "      <th>CPD</th>\n",
       "      <td>4517.0</td>\n",
       "      <td>1030.0</td>\n",
       "      <td>3918.0</td>\n",
       "      <td>811.0</td>\n",
       "      <td>0.847785</td>\n",
       "      <td>0.208165</td>\n",
       "      <td>0.814314</td>\n",
       "    </tr>\n",
       "    <tr>\n",
       "      <th>SAO</th>\n",
       "      <td>323.0</td>\n",
       "      <td>102.0</td>\n",
       "      <td>9236.0</td>\n",
       "      <td>615.0</td>\n",
       "      <td>0.344350</td>\n",
       "      <td>0.010923</td>\n",
       "      <td>0.760000</td>\n",
       "    </tr>\n",
       "    <tr>\n",
       "      <th>CCCC</th>\n",
       "      <td>71.0</td>\n",
       "      <td>21.0</td>\n",
       "      <td>9497.0</td>\n",
       "      <td>687.0</td>\n",
       "      <td>0.093668</td>\n",
       "      <td>0.002206</td>\n",
       "      <td>0.771739</td>\n",
       "    </tr>\n",
       "    <tr>\n",
       "      <th>CCJ</th>\n",
       "      <td>51.0</td>\n",
       "      <td>3.0</td>\n",
       "      <td>10005.0</td>\n",
       "      <td>217.0</td>\n",
       "      <td>0.190299</td>\n",
       "      <td>0.000300</td>\n",
       "      <td>0.944444</td>\n",
       "    </tr>\n",
       "    <tr>\n",
       "      <th>CCSP</th>\n",
       "      <td>145.0</td>\n",
       "      <td>24.0</td>\n",
       "      <td>9821.0</td>\n",
       "      <td>286.0</td>\n",
       "      <td>0.336427</td>\n",
       "      <td>0.002438</td>\n",
       "      <td>0.857988</td>\n",
       "    </tr>\n",
       "    <tr>\n",
       "      <th>CPUB</th>\n",
       "      <td>0.0</td>\n",
       "      <td>0.0</td>\n",
       "      <td>10199.0</td>\n",
       "      <td>77.0</td>\n",
       "      <td>0.000000</td>\n",
       "      <td>0.000000</td>\n",
       "      <td>NaN</td>\n",
       "    </tr>\n",
       "    <tr>\n",
       "      <th>IDOC</th>\n",
       "      <td>2.0</td>\n",
       "      <td>0.0</td>\n",
       "      <td>10206.0</td>\n",
       "      <td>68.0</td>\n",
       "      <td>0.028571</td>\n",
       "      <td>0.000000</td>\n",
       "      <td>1.000000</td>\n",
       "    </tr>\n",
       "    <tr>\n",
       "      <th>DOMV</th>\n",
       "      <td>156.0</td>\n",
       "      <td>15.0</td>\n",
       "      <td>9754.0</td>\n",
       "      <td>351.0</td>\n",
       "      <td>0.307692</td>\n",
       "      <td>0.001535</td>\n",
       "      <td>0.912281</td>\n",
       "    </tr>\n",
       "    <tr>\n",
       "      <th>SEXA</th>\n",
       "      <td>479.0</td>\n",
       "      <td>33.0</td>\n",
       "      <td>9509.0</td>\n",
       "      <td>255.0</td>\n",
       "      <td>0.652589</td>\n",
       "      <td>0.003458</td>\n",
       "      <td>0.935547</td>\n",
       "    </tr>\n",
       "    <tr>\n",
       "      <th>POLB</th>\n",
       "      <td>39.0</td>\n",
       "      <td>10.0</td>\n",
       "      <td>10096.0</td>\n",
       "      <td>131.0</td>\n",
       "      <td>0.229412</td>\n",
       "      <td>0.000990</td>\n",
       "      <td>0.795918</td>\n",
       "    </tr>\n",
       "    <tr>\n",
       "      <th>POLM</th>\n",
       "      <td>88.0</td>\n",
       "      <td>14.0</td>\n",
       "      <td>9960.0</td>\n",
       "      <td>214.0</td>\n",
       "      <td>0.291391</td>\n",
       "      <td>0.001404</td>\n",
       "      <td>0.862745</td>\n",
       "    </tr>\n",
       "    <tr>\n",
       "      <th>GUNV</th>\n",
       "      <td>3425.0</td>\n",
       "      <td>200.0</td>\n",
       "      <td>6097.0</td>\n",
       "      <td>554.0</td>\n",
       "      <td>0.860769</td>\n",
       "      <td>0.031761</td>\n",
       "      <td>0.944828</td>\n",
       "    </tr>\n",
       "    <tr>\n",
       "      <th>GLBTQ</th>\n",
       "      <td>0.0</td>\n",
       "      <td>0.0</td>\n",
       "      <td>10219.0</td>\n",
       "      <td>57.0</td>\n",
       "      <td>0.000000</td>\n",
       "      <td>0.000000</td>\n",
       "      <td>NaN</td>\n",
       "    </tr>\n",
       "    <tr>\n",
       "      <th>JUVE</th>\n",
       "      <td>295.0</td>\n",
       "      <td>96.0</td>\n",
       "      <td>9065.0</td>\n",
       "      <td>820.0</td>\n",
       "      <td>0.264574</td>\n",
       "      <td>0.010479</td>\n",
       "      <td>0.754476</td>\n",
       "    </tr>\n",
       "    <tr>\n",
       "      <th>REEN</th>\n",
       "      <td>0.0</td>\n",
       "      <td>0.0</td>\n",
       "      <td>10245.0</td>\n",
       "      <td>31.0</td>\n",
       "      <td>0.000000</td>\n",
       "      <td>0.000000</td>\n",
       "      <td>NaN</td>\n",
       "    </tr>\n",
       "    <tr>\n",
       "      <th>VIOL</th>\n",
       "      <td>3291.0</td>\n",
       "      <td>1075.0</td>\n",
       "      <td>4670.0</td>\n",
       "      <td>1240.0</td>\n",
       "      <td>0.726330</td>\n",
       "      <td>0.187119</td>\n",
       "      <td>0.753779</td>\n",
       "    </tr>\n",
       "    <tr>\n",
       "      <th>BEAT</th>\n",
       "      <td>17.0</td>\n",
       "      <td>1.0</td>\n",
       "      <td>10179.0</td>\n",
       "      <td>79.0</td>\n",
       "      <td>0.177083</td>\n",
       "      <td>0.000098</td>\n",
       "      <td>0.944444</td>\n",
       "    </tr>\n",
       "    <tr>\n",
       "      <th>PROB</th>\n",
       "      <td>5.0</td>\n",
       "      <td>0.0</td>\n",
       "      <td>10203.0</td>\n",
       "      <td>68.0</td>\n",
       "      <td>0.068493</td>\n",
       "      <td>0.000000</td>\n",
       "      <td>1.000000</td>\n",
       "    </tr>\n",
       "    <tr>\n",
       "      <th>PARL</th>\n",
       "      <td>1.0</td>\n",
       "      <td>0.0</td>\n",
       "      <td>10166.0</td>\n",
       "      <td>109.0</td>\n",
       "      <td>0.009091</td>\n",
       "      <td>0.000000</td>\n",
       "      <td>1.000000</td>\n",
       "    </tr>\n",
       "    <tr>\n",
       "      <th>CPLY</th>\n",
       "      <td>4.0</td>\n",
       "      <td>2.0</td>\n",
       "      <td>10118.0</td>\n",
       "      <td>152.0</td>\n",
       "      <td>0.025641</td>\n",
       "      <td>0.000198</td>\n",
       "      <td>0.666667</td>\n",
       "    </tr>\n",
       "    <tr>\n",
       "      <th>DRUG</th>\n",
       "      <td>262.0</td>\n",
       "      <td>13.0</td>\n",
       "      <td>9526.0</td>\n",
       "      <td>475.0</td>\n",
       "      <td>0.355495</td>\n",
       "      <td>0.001363</td>\n",
       "      <td>0.952727</td>\n",
       "    </tr>\n",
       "    <tr>\n",
       "      <th>CPS</th>\n",
       "      <td>129.0</td>\n",
       "      <td>17.0</td>\n",
       "      <td>9956.0</td>\n",
       "      <td>174.0</td>\n",
       "      <td>0.425743</td>\n",
       "      <td>0.001705</td>\n",
       "      <td>0.883562</td>\n",
       "    </tr>\n",
       "    <tr>\n",
       "      <th>GANG</th>\n",
       "      <td>485.0</td>\n",
       "      <td>73.0</td>\n",
       "      <td>9264.0</td>\n",
       "      <td>454.0</td>\n",
       "      <td>0.516507</td>\n",
       "      <td>0.007818</td>\n",
       "      <td>0.869176</td>\n",
       "    </tr>\n",
       "    <tr>\n",
       "      <th>ILSP</th>\n",
       "      <td>49.0</td>\n",
       "      <td>6.0</td>\n",
       "      <td>10019.0</td>\n",
       "      <td>202.0</td>\n",
       "      <td>0.195219</td>\n",
       "      <td>0.000599</td>\n",
       "      <td>0.890909</td>\n",
       "    </tr>\n",
       "    <tr>\n",
       "      <th>HOMI</th>\n",
       "      <td>2662.0</td>\n",
       "      <td>301.0</td>\n",
       "      <td>6763.0</td>\n",
       "      <td>550.0</td>\n",
       "      <td>0.828767</td>\n",
       "      <td>0.042610</td>\n",
       "      <td>0.898414</td>\n",
       "    </tr>\n",
       "    <tr>\n",
       "      <th>IPRA</th>\n",
       "      <td>27.0</td>\n",
       "      <td>5.0</td>\n",
       "      <td>10160.0</td>\n",
       "      <td>84.0</td>\n",
       "      <td>0.243243</td>\n",
       "      <td>0.000492</td>\n",
       "      <td>0.843750</td>\n",
       "    </tr>\n",
       "    <tr>\n",
       "      <th>CPBD</th>\n",
       "      <td>0.0</td>\n",
       "      <td>0.0</td>\n",
       "      <td>10237.0</td>\n",
       "      <td>39.0</td>\n",
       "      <td>0.000000</td>\n",
       "      <td>0.000000</td>\n",
       "      <td>NaN</td>\n",
       "    </tr>\n",
       "    <tr>\n",
       "      <th>IMMG</th>\n",
       "      <td>3.0</td>\n",
       "      <td>0.0</td>\n",
       "      <td>10232.0</td>\n",
       "      <td>41.0</td>\n",
       "      <td>0.068182</td>\n",
       "      <td>0.000000</td>\n",
       "      <td>1.000000</td>\n",
       "    </tr>\n",
       "    <tr>\n",
       "      <th>ENVI</th>\n",
       "      <td>0.0</td>\n",
       "      <td>0.0</td>\n",
       "      <td>10260.0</td>\n",
       "      <td>16.0</td>\n",
       "      <td>0.000000</td>\n",
       "      <td>0.000000</td>\n",
       "      <td>NaN</td>\n",
       "    </tr>\n",
       "    <tr>\n",
       "      <th>UNSPC</th>\n",
       "      <td>1280.0</td>\n",
       "      <td>428.0</td>\n",
       "      <td>7035.0</td>\n",
       "      <td>1533.0</td>\n",
       "      <td>0.455030</td>\n",
       "      <td>0.057350</td>\n",
       "      <td>0.749415</td>\n",
       "    </tr>\n",
       "    <tr>\n",
       "      <th>ILSC</th>\n",
       "      <td>0.0</td>\n",
       "      <td>0.0</td>\n",
       "      <td>10218.0</td>\n",
       "      <td>58.0</td>\n",
       "      <td>0.000000</td>\n",
       "      <td>0.000000</td>\n",
       "      <td>NaN</td>\n",
       "    </tr>\n",
       "    <tr>\n",
       "      <th>ARSN</th>\n",
       "      <td>29.0</td>\n",
       "      <td>4.0</td>\n",
       "      <td>10157.0</td>\n",
       "      <td>86.0</td>\n",
       "      <td>0.252174</td>\n",
       "      <td>0.000394</td>\n",
       "      <td>0.878788</td>\n",
       "    </tr>\n",
       "    <tr>\n",
       "      <th>BURG</th>\n",
       "      <td>91.0</td>\n",
       "      <td>13.0</td>\n",
       "      <td>9906.0</td>\n",
       "      <td>266.0</td>\n",
       "      <td>0.254902</td>\n",
       "      <td>0.001311</td>\n",
       "      <td>0.875000</td>\n",
       "    </tr>\n",
       "    <tr>\n",
       "      <th>DUI</th>\n",
       "      <td>189.0</td>\n",
       "      <td>36.0</td>\n",
       "      <td>9882.0</td>\n",
       "      <td>169.0</td>\n",
       "      <td>0.527933</td>\n",
       "      <td>0.003630</td>\n",
       "      <td>0.840000</td>\n",
       "    </tr>\n",
       "    <tr>\n",
       "      <th>FRUD</th>\n",
       "      <td>196.0</td>\n",
       "      <td>38.0</td>\n",
       "      <td>9781.0</td>\n",
       "      <td>261.0</td>\n",
       "      <td>0.428884</td>\n",
       "      <td>0.003870</td>\n",
       "      <td>0.837607</td>\n",
       "    </tr>\n",
       "    <tr>\n",
       "      <th>ROBB</th>\n",
       "      <td>865.0</td>\n",
       "      <td>70.0</td>\n",
       "      <td>8753.0</td>\n",
       "      <td>588.0</td>\n",
       "      <td>0.595320</td>\n",
       "      <td>0.007934</td>\n",
       "      <td>0.925134</td>\n",
       "    </tr>\n",
       "    <tr>\n",
       "      <th>TASR</th>\n",
       "      <td>1.0</td>\n",
       "      <td>0.0</td>\n",
       "      <td>10238.0</td>\n",
       "      <td>37.0</td>\n",
       "      <td>0.026316</td>\n",
       "      <td>0.000000</td>\n",
       "      <td>1.000000</td>\n",
       "    </tr>\n",
       "  </tbody>\n",
       "</table>\n",
       "</div>"
      ],
      "text/plain": [
       "           TP      FP       TN      FN       TPR       FPR       PPV\n",
       "OEMC      0.0     0.0  10233.0    43.0  0.000000  0.000000       NaN\n",
       "CPD    4517.0  1030.0   3918.0   811.0  0.847785  0.208165  0.814314\n",
       "SAO     323.0   102.0   9236.0   615.0  0.344350  0.010923  0.760000\n",
       "CCCC     71.0    21.0   9497.0   687.0  0.093668  0.002206  0.771739\n",
       "CCJ      51.0     3.0  10005.0   217.0  0.190299  0.000300  0.944444\n",
       "CCSP    145.0    24.0   9821.0   286.0  0.336427  0.002438  0.857988\n",
       "CPUB      0.0     0.0  10199.0    77.0  0.000000  0.000000       NaN\n",
       "IDOC      2.0     0.0  10206.0    68.0  0.028571  0.000000  1.000000\n",
       "DOMV    156.0    15.0   9754.0   351.0  0.307692  0.001535  0.912281\n",
       "SEXA    479.0    33.0   9509.0   255.0  0.652589  0.003458  0.935547\n",
       "POLB     39.0    10.0  10096.0   131.0  0.229412  0.000990  0.795918\n",
       "POLM     88.0    14.0   9960.0   214.0  0.291391  0.001404  0.862745\n",
       "GUNV   3425.0   200.0   6097.0   554.0  0.860769  0.031761  0.944828\n",
       "GLBTQ     0.0     0.0  10219.0    57.0  0.000000  0.000000       NaN\n",
       "JUVE    295.0    96.0   9065.0   820.0  0.264574  0.010479  0.754476\n",
       "REEN      0.0     0.0  10245.0    31.0  0.000000  0.000000       NaN\n",
       "VIOL   3291.0  1075.0   4670.0  1240.0  0.726330  0.187119  0.753779\n",
       "BEAT     17.0     1.0  10179.0    79.0  0.177083  0.000098  0.944444\n",
       "PROB      5.0     0.0  10203.0    68.0  0.068493  0.000000  1.000000\n",
       "PARL      1.0     0.0  10166.0   109.0  0.009091  0.000000  1.000000\n",
       "CPLY      4.0     2.0  10118.0   152.0  0.025641  0.000198  0.666667\n",
       "DRUG    262.0    13.0   9526.0   475.0  0.355495  0.001363  0.952727\n",
       "CPS     129.0    17.0   9956.0   174.0  0.425743  0.001705  0.883562\n",
       "GANG    485.0    73.0   9264.0   454.0  0.516507  0.007818  0.869176\n",
       "ILSP     49.0     6.0  10019.0   202.0  0.195219  0.000599  0.890909\n",
       "HOMI   2662.0   301.0   6763.0   550.0  0.828767  0.042610  0.898414\n",
       "IPRA     27.0     5.0  10160.0    84.0  0.243243  0.000492  0.843750\n",
       "CPBD      0.0     0.0  10237.0    39.0  0.000000  0.000000       NaN\n",
       "IMMG      3.0     0.0  10232.0    41.0  0.068182  0.000000  1.000000\n",
       "ENVI      0.0     0.0  10260.0    16.0  0.000000  0.000000       NaN\n",
       "UNSPC  1280.0   428.0   7035.0  1533.0  0.455030  0.057350  0.749415\n",
       "ILSC      0.0     0.0  10218.0    58.0  0.000000  0.000000       NaN\n",
       "ARSN     29.0     4.0  10157.0    86.0  0.252174  0.000394  0.878788\n",
       "BURG     91.0    13.0   9906.0   266.0  0.254902  0.001311  0.875000\n",
       "DUI     189.0    36.0   9882.0   169.0  0.527933  0.003630  0.840000\n",
       "FRUD    196.0    38.0   9781.0   261.0  0.428884  0.003870  0.837607\n",
       "ROBB    865.0    70.0   8753.0   588.0  0.595320  0.007934  0.925134\n",
       "TASR      1.0     0.0  10238.0    37.0  0.026316  0.000000  1.000000"
      ]
     },
     "execution_count": 8,
     "metadata": {},
     "output_type": "execute_result"
    }
   ],
   "source": [
    "perf = pd.DataFrame()\n",
    "\n",
    "for i in range(Y_hat.shape[1]):\n",
    "    tag = tst.columns[7+i]\n",
    "    perf.loc['TP', tag] = sum((Y_hat[:,i] > .5) & (Y_tst[:,i] == 1))\n",
    "    perf.loc['FP', tag] = sum((Y_hat[:,i] > .5) & (Y_tst[:,i] == 0))\n",
    "    perf.loc['TN', tag] = sum((Y_hat[:,i] < .5) & (Y_tst[:,i] == 0))\n",
    "    perf.loc['FN', tag] = sum((Y_hat[:,i] < .5) & (Y_tst[:,i] == 1))\n",
    "    perf.loc['TPR', tag] = perf.loc['TP', tag] / (perf.loc['TP', tag] + perf.loc['FN', tag])\n",
    "    perf.loc['FPR', tag] = perf.loc['FP', tag] / (perf.loc['FP', tag] + perf.loc['TN', tag])\n",
    "    perf.loc['PPV', tag] = perf.loc['TP', tag] / (perf.loc['TP', tag] + perf.loc['FP', tag])\n",
    "\n",
    "perf = perf.T\n",
    "perf"
   ]
  },
  {
   "cell_type": "code",
   "execution_count": 24,
   "metadata": {
    "collapsed": false
   },
   "outputs": [
    {
     "data": {
      "image/png": "[encoded data removed]",
      "text/plain": [
       "<matplotlib.figure.Figure at 0x2645a7b8c50>"
      ]
     },
     "metadata": {},
     "output_type": "display_data"
    }
   ],
   "source": [
    "perf['TPR'].plot(kind='bar', ylim=[0,1], width=.9)\n",
    "plt.ylabel('TPR');"
   ]
  },
  {
   "cell_type": "code",
   "execution_count": 25,
   "metadata": {
    "collapsed": false
   },
   "outputs": [
    {
     "data": {
      "image/png": "[encoded data removed]",
      "text/plain": [
       "<matplotlib.figure.Figure at 0x26404e3bc18>"
      ]
     },
     "metadata": {},
     "output_type": "display_data"
    }
   ],
   "source": [
    "(1 - perf['FPR']).plot(kind='bar', ylim=[0,1], width=.9)\n",
    "plt.ylabel('1 - FPR');"
   ]
  },
  {
   "cell_type": "code",
   "execution_count": 26,
   "metadata": {
    "collapsed": false
   },
   "outputs": [
    {
     "data": {
      "image/png": "[encoded data removed]",
      "text/plain": [
       "<matplotlib.figure.Figure at 0x2645b98b9e8>"
      ]
     },
     "metadata": {},
     "output_type": "display_data"
    }
   ],
   "source": [
    "perf['PPV'].plot(kind='bar', ylim=[0,1], width=.9)\n",
    "plt.ylabel('PPV');"
   ]
  },
  {
   "cell_type": "code",
   "execution_count": 27,
   "metadata": {
    "collapsed": false
   },
   "outputs": [
    {
     "data": {
      "text/plain": [
       "[<matplotlib.lines.Line2D at 0x2645a5825c0>]"
      ]
     },
     "execution_count": 27,
     "metadata": {},
     "output_type": "execute_result"
    },
    {
     "data": {
      "image/png": "[encoded data removed]",
      "text/plain": [
       "<matplotlib.figure.Figure at 0x2645a7c25c0>"
      ]
     },
     "metadata": {},
     "output_type": "display_data"
    }
   ],
   "source": [
    "plt.plot(X_tst[:, 0].todense())"
   ]
  },
  {
   "cell_type": "code",
   "execution_count": null,
   "metadata": {
    "collapsed": true
   },
   "outputs": [],
   "source": []
  },
  {
   "cell_type": "code",
   "execution_count": 28,
   "metadata": {
    "collapsed": true
   },
   "outputs": [],
   "source": [
    "import benchmark_tagging as bt"
   ]
  },
  {
   "cell_type": "code",
   "execution_count": 38,
   "metadata": {
    "collapsed": false
   },
   "outputs": [
    {
     "name": "stdout",
     "output_type": "stream",
     "text": [
      "[0.9601760121930234, 0.96018058108016746, 0.95973496745483933, 0.96030350897680961]\n"
     ]
    }
   ],
   "source": [
    "print(bt.benchmark(\n",
    "    lambda: sklearn.multiclass.OneVsRestClassifier(\n",
    "        sklearn.linear_model.LogisticRegression()\n",
    "    ),\n",
    "    tfidf_transformer.transform(vectorizer.transform(crime_df['bodytext'].values)),\n",
    "    crime_df.loc[:, 'OEMC':'TASR'].values\n",
    "))"
   ]
  },
  {
   "cell_type": "code",
   "execution_count": 30,
   "metadata": {
    "collapsed": true
   },
   "outputs": [],
   "source": [
    "from importlib import reload"
   ]
  },
  {
   "cell_type": "code",
   "execution_count": 37,
   "metadata": {
    "collapsed": false
   },
   "outputs": [
    {
     "data": {
      "text/plain": [
       "<module 'benchmark_tagging' from 'C:\\\\Users\\\\kevin.rose\\\\Documents\\\\GitHub\\\\cjp-article-tagging\\\\src\\\\benchmark_tagging.py'>"
      ]
     },
     "execution_count": 37,
     "metadata": {},
     "output_type": "execute_result"
    }
   ],
   "source": [
    "reload(bt)"
   ]
  },
  {
   "cell_type": "code",
   "execution_count": null,
   "metadata": {
    "collapsed": true
   },
   "outputs": [],
   "source": []
  }
 ],
 "metadata": {
  "anaconda-cloud": {},
  "kernelspec": {
   "display_name": "Python [conda env:py35]",
   "language": "python",
   "name": "conda-env-py35-py"
  },
  "language_info": {
   "codemirror_mode": {
    "name": "ipython",
    "version": 3
   },
   "file_extension": ".py",
   "mimetype": "text/x-python",
   "name": "python",
   "nbconvert_exporter": "python",
   "pygments_lexer": "ipython3",
   "version": "3.5.2"
  }
 },
 "nbformat": 4,
 "nbformat_minor": 2
}
