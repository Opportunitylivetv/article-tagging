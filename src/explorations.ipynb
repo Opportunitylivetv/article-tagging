{
 "cells": [
  {
   "cell_type": "code",
   "execution_count": 1,
   "metadata": {
    "collapsed": true
   },
   "outputs": [],
   "source": [
    "import load_data as ld\n",
    "import matplotlib\n",
    "import matplotlib.pyplot as plt\n",
    "import seaborn as sns\n",
    "import numpy as np\n",
    "import pandas as pd\n",
    "import sklearn\n",
    "import sklearn.feature_extraction.text\n",
    "import sklearn.multiclass\n",
    "import sklearn.linear_model\n",
    "% matplotlib inline\n",
    "plt.rcParams['figure.figsize'] = 12, 8"
   ]
  },
  {
   "cell_type": "code",
   "execution_count": 2,
   "metadata": {
    "collapsed": false
   },
   "outputs": [
    {
     "name": "stderr",
     "output_type": "stream",
     "text": [
      "C:\\Users\\kevin.rose\\AppData\\Local\\Continuum\\Anaconda2\\envs\\py35\\lib\\site-packages\\IPython\\core\\interactiveshell.py:2881: DtypeWarning: Columns (3) have mixed types. Specify dtype option on import or set low_memory=False.\n",
      "  exec(code_obj, self.user_global_ns, self.user_ns)\n"
     ]
    }
   ],
   "source": [
    "df = ld.load_data()"
   ]
  },
  {
   "cell_type": "markdown",
   "metadata": {},
   "source": [
    "# Article Tags Exploration"
   ]
  },
  {
   "cell_type": "code",
   "execution_count": 3,
   "metadata": {
    "collapsed": false
   },
   "outputs": [
    {
     "name": "stdout",
     "output_type": "stream",
     "text": [
      "Number relevant articles: 112091\n",
      "Number tagged articles  : 36986\n"
     ]
    }
   ],
   "source": [
    "print('Number relevant articles:', df['relevant'].sum())\n",
    "print('Number tagged articles  :', df.loc[:, 'OEMC':'TASR'].any(1).sum())"
   ]
  },
  {
   "cell_type": "code",
   "execution_count": 4,
   "metadata": {
    "collapsed": false
   },
   "outputs": [
    {
     "data": {
      "text/html": [
       "<div>\n",
       "<table border=\"1\" class=\"dataframe\">\n",
       "  <thead>\n",
       "    <tr style=\"text-align: right;\">\n",
       "      <th></th>\n",
       "      <th>category_name</th>\n",
       "      <th>counts</th>\n",
       "    </tr>\n",
       "    <tr>\n",
       "      <th>abbreviation</th>\n",
       "      <th></th>\n",
       "      <th></th>\n",
       "    </tr>\n",
       "  </thead>\n",
       "  <tbody>\n",
       "    <tr>\n",
       "      <th>ENVI</th>\n",
       "      <td>Environmental Crimes</td>\n",
       "      <td>49</td>\n",
       "    </tr>\n",
       "    <tr>\n",
       "      <th>TASR</th>\n",
       "      <td>Police Use of Taser</td>\n",
       "      <td>119</td>\n",
       "    </tr>\n",
       "    <tr>\n",
       "      <th>OEMC</th>\n",
       "      <td>Office of Emergency Management &amp; Communications</td>\n",
       "      <td>127</td>\n",
       "    </tr>\n",
       "    <tr>\n",
       "      <th>REEN</th>\n",
       "      <td>Re-Entry</td>\n",
       "      <td>129</td>\n",
       "    </tr>\n",
       "    <tr>\n",
       "      <th>CPBD</th>\n",
       "      <td>Chicago Police Board</td>\n",
       "      <td>155</td>\n",
       "    </tr>\n",
       "    <tr>\n",
       "      <th>ILSC</th>\n",
       "      <td>Illinois State Court</td>\n",
       "      <td>179</td>\n",
       "    </tr>\n",
       "    <tr>\n",
       "      <th>IMMG</th>\n",
       "      <td>Immigration</td>\n",
       "      <td>218</td>\n",
       "    </tr>\n",
       "    <tr>\n",
       "      <th>CPUB</th>\n",
       "      <td>Cook County Public Defender's Office</td>\n",
       "      <td>222</td>\n",
       "    </tr>\n",
       "    <tr>\n",
       "      <th>IDOC</th>\n",
       "      <td>Illinois Department of Corrections</td>\n",
       "      <td>300</td>\n",
       "    </tr>\n",
       "    <tr>\n",
       "      <th>PROB</th>\n",
       "      <td>Probation</td>\n",
       "      <td>312</td>\n",
       "    </tr>\n",
       "    <tr>\n",
       "      <th>IPRA</th>\n",
       "      <td>Independent Police Review Authority</td>\n",
       "      <td>359</td>\n",
       "    </tr>\n",
       "    <tr>\n",
       "      <th>BEAT</th>\n",
       "      <td>Beat Realignment / Police Resouce Allocation</td>\n",
       "      <td>377</td>\n",
       "    </tr>\n",
       "    <tr>\n",
       "      <th>ARSN</th>\n",
       "      <td>Arson</td>\n",
       "      <td>387</td>\n",
       "    </tr>\n",
       "    <tr>\n",
       "      <th>PARL</th>\n",
       "      <td>Parole</td>\n",
       "      <td>395</td>\n",
       "    </tr>\n",
       "    <tr>\n",
       "      <th>GLBTQ</th>\n",
       "      <td>GLBTQ</td>\n",
       "      <td>510</td>\n",
       "    </tr>\n",
       "    <tr>\n",
       "      <th>POLB</th>\n",
       "      <td>Police Brutality</td>\n",
       "      <td>573</td>\n",
       "    </tr>\n",
       "    <tr>\n",
       "      <th>CPLY</th>\n",
       "      <td>Criminal Justice Policy</td>\n",
       "      <td>581</td>\n",
       "    </tr>\n",
       "    <tr>\n",
       "      <th>CCJ</th>\n",
       "      <td>Cook County Jail</td>\n",
       "      <td>897</td>\n",
       "    </tr>\n",
       "    <tr>\n",
       "      <th>ILSP</th>\n",
       "      <td>Illinois State Police</td>\n",
       "      <td>972</td>\n",
       "    </tr>\n",
       "    <tr>\n",
       "      <th>POLM</th>\n",
       "      <td>Police Misconduct</td>\n",
       "      <td>1068</td>\n",
       "    </tr>\n",
       "    <tr>\n",
       "      <th>DUI</th>\n",
       "      <td>Driving Under the Influence</td>\n",
       "      <td>1264</td>\n",
       "    </tr>\n",
       "    <tr>\n",
       "      <th>BURG</th>\n",
       "      <td>Burlgary</td>\n",
       "      <td>1325</td>\n",
       "    </tr>\n",
       "    <tr>\n",
       "      <th>CCSP</th>\n",
       "      <td>Cook County Sheriff's Police</td>\n",
       "      <td>1450</td>\n",
       "    </tr>\n",
       "    <tr>\n",
       "      <th>FRUD</th>\n",
       "      <td>Fraud</td>\n",
       "      <td>1557</td>\n",
       "    </tr>\n",
       "    <tr>\n",
       "      <th>CPS</th>\n",
       "      <td>Chicago Public Schools</td>\n",
       "      <td>1698</td>\n",
       "    </tr>\n",
       "    <tr>\n",
       "      <th>DOMV</th>\n",
       "      <td>Domestic Violence</td>\n",
       "      <td>1765</td>\n",
       "    </tr>\n",
       "    <tr>\n",
       "      <th>DRUG</th>\n",
       "      <td>Drugs</td>\n",
       "      <td>2502</td>\n",
       "    </tr>\n",
       "    <tr>\n",
       "      <th>SEXA</th>\n",
       "      <td>Sexual Assault</td>\n",
       "      <td>2521</td>\n",
       "    </tr>\n",
       "    <tr>\n",
       "      <th>CCCC</th>\n",
       "      <td>Cook County Circuit Court</td>\n",
       "      <td>2546</td>\n",
       "    </tr>\n",
       "    <tr>\n",
       "      <th>SAO</th>\n",
       "      <td>Cook County State's Attorney's Office</td>\n",
       "      <td>3387</td>\n",
       "    </tr>\n",
       "    <tr>\n",
       "      <th>GANG</th>\n",
       "      <td>Gangs</td>\n",
       "      <td>3411</td>\n",
       "    </tr>\n",
       "    <tr>\n",
       "      <th>JUVE</th>\n",
       "      <td>Juvenile</td>\n",
       "      <td>3643</td>\n",
       "    </tr>\n",
       "    <tr>\n",
       "      <th>ROBB</th>\n",
       "      <td>Robbery</td>\n",
       "      <td>4937</td>\n",
       "    </tr>\n",
       "    <tr>\n",
       "      <th>UNSPC</th>\n",
       "      <td>Unspecified Crime</td>\n",
       "      <td>9508</td>\n",
       "    </tr>\n",
       "    <tr>\n",
       "      <th>HOMI</th>\n",
       "      <td>Homicides</td>\n",
       "      <td>11105</td>\n",
       "    </tr>\n",
       "    <tr>\n",
       "      <th>GUNV</th>\n",
       "      <td>Gun Violence</td>\n",
       "      <td>13494</td>\n",
       "    </tr>\n",
       "    <tr>\n",
       "      <th>VIOL</th>\n",
       "      <td>Violence</td>\n",
       "      <td>15350</td>\n",
       "    </tr>\n",
       "    <tr>\n",
       "      <th>CPD</th>\n",
       "      <td>Chicago Police Department</td>\n",
       "      <td>18362</td>\n",
       "    </tr>\n",
       "  </tbody>\n",
       "</table>\n",
       "</div>"
      ],
      "text/plain": [
       "                                                category_name  counts\n",
       "abbreviation                                                         \n",
       "ENVI                                     Environmental Crimes      49\n",
       "TASR                                      Police Use of Taser     119\n",
       "OEMC          Office of Emergency Management & Communications     127\n",
       "REEN                                                 Re-Entry     129\n",
       "CPBD                                     Chicago Police Board     155\n",
       "ILSC                                     Illinois State Court     179\n",
       "IMMG                                              Immigration     218\n",
       "CPUB                     Cook County Public Defender's Office     222\n",
       "IDOC                       Illinois Department of Corrections     300\n",
       "PROB                                                Probation     312\n",
       "IPRA                      Independent Police Review Authority     359\n",
       "BEAT             Beat Realignment / Police Resouce Allocation     377\n",
       "ARSN                                                    Arson     387\n",
       "PARL                                                   Parole     395\n",
       "GLBTQ                                                   GLBTQ     510\n",
       "POLB                                         Police Brutality     573\n",
       "CPLY                                  Criminal Justice Policy     581\n",
       "CCJ                                          Cook County Jail     897\n",
       "ILSP                                    Illinois State Police     972\n",
       "POLM                                        Police Misconduct    1068\n",
       "DUI                               Driving Under the Influence    1264\n",
       "BURG                                                 Burlgary    1325\n",
       "CCSP                             Cook County Sheriff's Police    1450\n",
       "FRUD                                                    Fraud    1557\n",
       "CPS                                    Chicago Public Schools    1698\n",
       "DOMV                                        Domestic Violence    1765\n",
       "DRUG                                                    Drugs    2502\n",
       "SEXA                                           Sexual Assault    2521\n",
       "CCCC                                Cook County Circuit Court    2546\n",
       "SAO                     Cook County State's Attorney's Office    3387\n",
       "GANG                                                    Gangs    3411\n",
       "JUVE                                                 Juvenile    3643\n",
       "ROBB                                                  Robbery    4937\n",
       "UNSPC                                       Unspecified Crime    9508\n",
       "HOMI                                                Homicides   11105\n",
       "GUNV                                             Gun Violence   13494\n",
       "VIOL                                                 Violence   15350\n",
       "CPD                                 Chicago Police Department   18362"
      ]
     },
     "execution_count": 4,
     "metadata": {},
     "output_type": "execute_result"
    }
   ],
   "source": [
    "categories_df = ld.load_categories()\n",
    "categories_df = categories_df.loc[:, ['abbreviation', 'category_name']]\n",
    "categories_df.set_index('abbreviation', drop=True, inplace=True)\n",
    "\n",
    "categories_df['counts'] = df.loc[:, 'OEMC':'TASR'].apply(sum, reduce=True)\n",
    "categories_df.sort_values(by='counts')"
   ]
  },
  {
   "cell_type": "code",
   "execution_count": 5,
   "metadata": {
    "collapsed": false
   },
   "outputs": [
    {
     "data": {
      "image/png": "[encoded data removed]",
      "text/plain": [
       "<matplotlib.figure.Figure at 0x1f799496128>"
      ]
     },
     "metadata": {},
     "output_type": "display_data"
    }
   ],
   "source": [
    "df.loc[:, 'OEMC':'TASR'].apply(sum, reduce=True).plot(kind='bar');"
   ]
  },
  {
   "cell_type": "code",
   "execution_count": 6,
   "metadata": {
    "collapsed": false
   },
   "outputs": [
    {
     "data": {
      "image/png": "[encoded data removed]",
      "text/plain": [
       "<matplotlib.figure.Figure at 0x1f718466c18>"
      ]
     },
     "metadata": {},
     "output_type": "display_data"
    }
   ],
   "source": [
    "corrs = df.loc[:, 'OEMC':'TASR'].corr()\n",
    "for i in range(corrs.shape[0]):\n",
    "    corrs.iloc[i, i] = np.nan\n",
    "\n",
    "cmap = matplotlib.cm.viridis\n",
    "cmap.set_bad((.3, .3, .3),1.)\n",
    "\n",
    "fig, ax = plt.subplots(figsize=(8, 8))\n",
    "ax.matshow(np.ma.masked_invalid(corrs.values), cmap=cmap)\n",
    "\n",
    "ax.grid(True, color=(.9, .9, .9), alpha=.1)\n",
    "\n",
    "plt.xticks(range(len(corrs.columns)), corrs.columns, rotation=90);\n",
    "plt.yticks(range(len(corrs.columns)), corrs.columns);"
   ]
  },
  {
   "cell_type": "markdown",
   "metadata": {},
   "source": [
    "# Text Contents Exploration"
   ]
  },
  {
   "cell_type": "code",
   "execution_count": 7,
   "metadata": {
    "collapsed": false
   },
   "outputs": [
    {
     "name": "stdout",
     "output_type": "stream",
     "text": [
      "ARTICLE ID: 120772 \n",
      "------------------\n",
      "##  The 30-Day sex challenge: Days 5 & 6\n",
      "\n",
      "![][1]\n",
      "\n",
      "[ Tweet ][2]\n",
      "\n",
      "By  Tara Scalzo  , Monday at 7:42 pm\n",
      "\n",
      "Ya know that saying ‘life is what happens to you while you’re busy making\n",
      "other plans’? Well, apparently the same holds true when you’re trying to have\n",
      "sex.\n",
      "\n",
      "** Day 5 ** proved to be fruitless. After Hubby came home from his usual 13-hour\n",
      " day, dinner was eaten, dishes were done, kids were bathed and shit was picked u\n",
      "p. Hubby went to put Dude down to bed at his normal bedtime, never to be seen ag\n",
      "ain. After an hour, I found him snoring on Dude’s floor, completely passed out. \n",
      "I was neither shocked nor mad.  I didn’t have the heart to wake him, so I let hi\n",
      "m sleep. After another hour went by, I woke him and told him to go to our bed, o\n",
      "therwise tomorrow his back would be killing him and I’d never hear the end of it\n",
      ". \n",
      "\n",
      "A few hours later, I was finally ready to go to bed and already knew that if\n",
      "anything were to happen, I’d have to take the initiative. I’ve been told many\n",
      "times before that if a man were to be woken up, _ this _ would be the way to\n",
      "do it.\n",
      "\n",
      "Apparently, the penis never sleeps.\n",
      "\n",
      "So I carefully primped myself in the bathroom, ready to engage in a game of\n",
      "Who’s Your Mama. I gently lay down next to Hubby to relax for a moment….and\n",
      "then quickly fell asleep.\n",
      "\n",
      "ARE YOU FUCKING KIDDING ME?!\n",
      "\n",
      "** Day 6 ** didn’t prove to be any better. Hubby had a full day of work. I had a\n",
      " full day of kids up my ass and prepping for a wedding I was standing up in. By \n",
      "the time we made it home after the rehearsal dinner, we were toast. The energy t\n",
      "o copulate was just not even there. Screw screwing, sleep took precedence. Perio\n",
      "d. \n",
      "\n",
      "This isn’t what I wanted to happen. Looking back, I wonder if we, ourselves,\n",
      "are to blame.\n",
      "\n",
      "Did we not try hard enough? Should we have fought through the exhaustion to\n",
      "show affection? Was there any moment of the day when we could have stepped\n",
      "away from Life to focus on Us? Have we allowed things to consume our every\n",
      "waking moment to the point that we forget about the love and passion that\n",
      "brought us together?\n",
      "\n",
      "Shouldacouldawoulda. It’s enough to drive you nuts. Funny how you don’t think\n",
      "about this shit until you have to really think about it. Let's see what Day 7\n",
      "has in store...\n",
      "\n",
      " \n",
      "\n",
      "Find me on [ facebook ][3] or [ twitter ][4] , I’d love to hear from you.\n",
      "\n",
      "Would you like to get updates on new blog posts?\n",
      "\n",
      "Type your email address in the box and click the \"create subscription\" button.\n",
      "My list is completely spam free, and you can opt out at any time.\n",
      "\n",
      "  *   * Filed under: [ Uncategorized ][5]\n",
      "\n",
      "[ Tweet ][2]\n",
      "\n",
      "   [1]: http://www.chicagonow.com/avatar/user-61925-32.png\n",
      "   [2]: http://twitter.com/share?url=http%3A%2F%2Fwww.chicagonow.com%2Fred-compa\n",
      "ny%2F2013%2F09%2Fthe-30-day-sex-challenge-days-5-6%2F\n",
      "   [3]: https://www.facebook.com/LotusBluMama\n",
      "   [4]: https://twitter.com/lotusblumama\n",
      "   [5]: http://www.chicagonow.com/red-company/category/uncategorized/\n",
      "\n"
     ]
    }
   ],
   "source": [
    "# Print a random article just to see what they look like.\n",
    "i = np.random.choice(df.shape[0])\n",
    "print('ARTICLE ID:', df.index[i], '\\n------------------')\n",
    "print(df.iloc[i]['bodytext'])"
   ]
  },
  {
   "cell_type": "markdown",
   "metadata": {},
   "source": [
    "## Some questions:\n",
    "\n",
    "* How to handle articles that talk about more than one crime (i.e. a summary of weekend violence)?\n",
    "* Would we want the scraper to keep any more information going forward? Author name, for example?\n",
    "* Do we want to have manually-defined cleaning built around the format? I.e. specifically remove the links at the bottom that are result of RSS format? "
   ]
  },
  {
   "cell_type": "code",
   "execution_count": 8,
   "metadata": {
    "collapsed": false
   },
   "outputs": [],
   "source": [
    "import nltk\n",
    "# you may need to run nltk.download()\n",
    "# and get the \"punkt\" dataset under the \"Models\" tab\n",
    "# to use the word_tokenize function. Other models might\n",
    "# be necessary as well."
   ]
  },
  {
   "cell_type": "code",
   "execution_count": 9,
   "metadata": {
    "collapsed": false
   },
   "outputs": [],
   "source": [
    "def all_words():\n",
    "    counter = 0\n",
    "    for txt in df['bodytext']:\n",
    "        tokens = nltk.tokenize.word_tokenize(txt)\n",
    "        for t in tokens:\n",
    "            if t[0] not in '[](){},.\\'\"`*:;/\\\\-+=_':\n",
    "                yield t.lower()\n",
    "                counter += 1\n",
    "            if counter > 5e6: # at some point will need to run fully, but truncate for now\n",
    "                return"
   ]
  },
  {
   "cell_type": "code",
   "execution_count": 10,
   "metadata": {
    "collapsed": false
   },
   "outputs": [],
   "source": [
    "word_freqs = nltk.FreqDist(all_words())"
   ]
  },
  {
   "cell_type": "code",
   "execution_count": 11,
   "metadata": {
    "collapsed": false
   },
   "outputs": [
    {
     "name": "stdout",
     "output_type": "stream",
     "text": [
      "\"the\": 231437\n",
      "\"to\": 116701\n",
      "\"a\": 112429\n",
      "\"and\": 108191\n",
      "\"of\": 97070\n",
      "\"in\": 87230\n",
      "\"that\": 44196\n",
      "\"for\": 41221\n",
      "\"was\": 40798\n",
      "\"said\": 39098\n",
      "\"on\": 35101\n",
      "\"he\": 33583\n",
      "\"is\": 30756\n",
      "\"with\": 28984\n",
      "\"http\": 27320\n",
      "\"at\": 27077\n",
      "\"it\": 25655\n",
      "\"his\": 23825\n",
      "\"1\": 23028\n",
      "\"2\": 22471\n",
      "\"as\": 20701\n",
      "\"by\": 20654\n",
      "\"i\": 20545\n",
      "\"3\": 19684\n",
      "\"be\": 18580\n",
      "\"from\": 18571\n",
      "\"#\": 18509\n",
      "\"4\": 18202\n",
      "\"this\": 18195\n",
      "\"not\": 17076\n",
      "\"5\": 16959\n",
      "\"have\": 16805\n",
      "\"but\": 16358\n",
      "\"an\": 15952\n",
      "\"chicago\": 15871\n",
      "\"police\": 15635\n",
      "\"6\": 15384\n",
      "\"they\": 15253\n",
      "\"who\": 15136\n",
      "\"are\": 15050\n"
     ]
    },
    {
     "data": {
      "image/png": "[encoded data removed]",
      "text/plain": [
       "<matplotlib.figure.Figure at 0x1f71a400860>"
      ]
     },
     "metadata": {},
     "output_type": "display_data"
    }
   ],
   "source": [
    "for pair in word_freqs.most_common(40):\n",
    "    print('\"{}\": {}'.format(pair[0], pair[1]))\n",
    "word_freqs.plot(40, cumulative=True)"
   ]
  },
  {
   "cell_type": "code",
   "execution_count": 12,
   "metadata": {
    "collapsed": false
   },
   "outputs": [
    {
     "name": "stdout",
     "output_type": "stream",
     "text": [
      "The word \"the\" is 173.5 times more common than \"gun\".\n"
     ]
    }
   ],
   "source": [
    "print('The word \"the\" is {0:.4} times more common than \"gun\".'.format(\n",
    "    word_freqs.freq('the') / word_freqs.freq('gun')\n",
    "))"
   ]
  },
  {
   "cell_type": "code",
   "execution_count": 13,
   "metadata": {
    "collapsed": false
   },
   "outputs": [
    {
     "name": "stdout",
     "output_type": "stream",
     "text": [
      "Confusion matrix using existence of \"gun\" to predict \"GUNV\" tag:\n"
     ]
    },
    {
     "data": {
      "text/html": [
       "<div>\n",
       "<table border=\"1\" class=\"dataframe\">\n",
       "  <thead>\n",
       "    <tr style=\"text-align: right;\">\n",
       "      <th>GUNV</th>\n",
       "      <th>0</th>\n",
       "      <th>1</th>\n",
       "    </tr>\n",
       "    <tr>\n",
       "      <th>bodytext</th>\n",
       "      <th></th>\n",
       "      <th></th>\n",
       "    </tr>\n",
       "  </thead>\n",
       "  <tbody>\n",
       "    <tr>\n",
       "      <th>False</th>\n",
       "      <td>238193</td>\n",
       "      <td>4347</td>\n",
       "    </tr>\n",
       "    <tr>\n",
       "      <th>True</th>\n",
       "      <td>20121</td>\n",
       "      <td>9147</td>\n",
       "    </tr>\n",
       "  </tbody>\n",
       "</table>\n",
       "</div>"
      ],
      "text/plain": [
       "GUNV           0     1\n",
       "bodytext              \n",
       "False     238193  4347\n",
       "True       20121  9147"
      ]
     },
     "execution_count": 13,
     "metadata": {},
     "output_type": "execute_result"
    }
   ],
   "source": [
    "print('Confusion matrix using existence of \"gun\" to predict \"GUNV\" tag:')\n",
    "pd.crosstab(df['bodytext'].str.contains('gun'), df['GUNV'])"
   ]
  },
  {
   "cell_type": "code",
   "execution_count": null,
   "metadata": {
    "collapsed": true
   },
   "outputs": [],
   "source": []
  }
 ],
 "metadata": {
  "anaconda-cloud": {},
  "kernelspec": {
   "display_name": "Python [conda env:py35]",
   "language": "python",
   "name": "conda-env-py35-py"
  },
  "language_info": {
   "codemirror_mode": {
    "name": "ipython",
    "version": 3
   },
   "file_extension": ".py",
   "mimetype": "text/x-python",
   "name": "python",
   "nbconvert_exporter": "python",
   "pygments_lexer": "ipython3",
   "version": "3.5.2"
  }
 },
 "nbformat": 4,
 "nbformat_minor": 2
}
