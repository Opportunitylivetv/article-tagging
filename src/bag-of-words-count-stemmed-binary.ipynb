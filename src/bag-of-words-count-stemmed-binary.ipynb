{
 "cells": [
  {
   "cell_type": "code",
   "execution_count": 1,
   "metadata": {
    "collapsed": true
   },
   "outputs": [],
   "source": [
    "import load_data as ld\n",
    "import matplotlib\n",
    "import matplotlib.pyplot as plt\n",
    "import seaborn as sns\n",
    "import numpy as np\n",
    "import pandas as pd\n",
    "import sklearn\n",
    "import sklearn.feature_extraction.text\n",
    "import sklearn.multiclass\n",
    "import sklearn.linear_model\n",
    "% matplotlib inline\n",
    "plt.rcParams['figure.figsize'] = 12, 8"
   ]
  },
  {
   "cell_type": "code",
   "execution_count": 2,
   "metadata": {
    "collapsed": false
   },
   "outputs": [
    {
     "name": "stderr",
     "output_type": "stream",
     "text": [
      "C:\\Users\\kevin.rose\\AppData\\Local\\Continuum\\Anaconda2\\envs\\py35\\lib\\site-packages\\IPython\\core\\interactiveshell.py:2881: DtypeWarning: Columns (3) have mixed types. Specify dtype option on import or set low_memory=False.\n",
      "  exec(code_obj, self.user_global_ns, self.user_ns)\n"
     ]
    }
   ],
   "source": [
    "df = ld.load_data()"
   ]
  },
  {
   "cell_type": "code",
   "execution_count": 3,
   "metadata": {
    "collapsed": false
   },
   "outputs": [
    {
     "name": "stdout",
     "output_type": "stream",
     "text": [
      "(112091, 45)\n",
      "(34253, 45)\n",
      "(23977, 45)\n",
      "(10276, 45)\n"
     ]
    }
   ],
   "source": [
    "crime_df = df.ix[df['relevant'], :]\n",
    "print(crime_df.shape)\n",
    "crime_df = crime_df.ix[crime_df.loc[:, 'OEMC':'TASR'].any(1), :]\n",
    "print(crime_df.shape)\n",
    "\n",
    "idx = np.random.permutation(crime_df.shape[0])\n",
    "trn = crime_df.iloc[idx[:int(crime_df.shape[0] * 0.7)], :]\n",
    "tst = crime_df.iloc[idx[int(crime_df.shape[0] * 0.7):], :]\n",
    "print(trn.shape)\n",
    "print(tst.shape)"
   ]
  },
  {
   "cell_type": "code",
   "execution_count": 4,
   "metadata": {
    "collapsed": false
   },
   "outputs": [],
   "source": [
    "# vectorize data\n",
    "from nltk import word_tokenize          \n",
    "from nltk.stem import WordNetLemmatizer \n",
    "class LemmaTokenizer(object):\n",
    "    def __init__(self):\n",
    "        self.wnl = WordNetLemmatizer()\n",
    "    def __call__(self, doc):\n",
    "        return [self.wnl.lemmatize(t) for t in word_tokenize(doc)]\n",
    "\n",
    "vectorizer = sklearn.feature_extraction.text.CountVectorizer(tokenizer=LemmaTokenizer(),\n",
    "                                                             binary=True)\n",
    "X = vectorizer.fit_transform(trn['bodytext'].values)\n",
    "\n",
    "Y = trn.loc[:, 'OEMC':'TASR'].values"
   ]
  },
  {
   "cell_type": "code",
   "execution_count": 5,
   "metadata": {
    "collapsed": false
   },
   "outputs": [
    {
     "data": {
      "text/plain": [
       "(23977, 169333)"
      ]
     },
     "execution_count": 5,
     "metadata": {},
     "output_type": "execute_result"
    }
   ],
   "source": [
    "X.shape"
   ]
  },
  {
   "cell_type": "code",
   "execution_count": 6,
   "metadata": {
    "collapsed": false
   },
   "outputs": [
    {
     "data": {
      "text/plain": [
       "OneVsRestClassifier(estimator=LogisticRegression(C=1.0, class_weight=None, dual=False, fit_intercept=True,\n",
       "          intercept_scaling=1, max_iter=100, multi_class='ovr', n_jobs=1,\n",
       "          penalty='l2', random_state=None, solver='liblinear', tol=0.0001,\n",
       "          verbose=0, warm_start=False),\n",
       "          n_jobs=1)"
      ]
     },
     "execution_count": 6,
     "metadata": {},
     "output_type": "execute_result"
    }
   ],
   "source": [
    "clf = sklearn.multiclass.OneVsRestClassifier(\n",
    "    sklearn.linear_model.LogisticRegression()\n",
    ")\n",
    "clf.fit(X, Y)"
   ]
  },
  {
   "cell_type": "code",
   "execution_count": 7,
   "metadata": {
    "collapsed": false
   },
   "outputs": [],
   "source": [
    "X_tst = vectorizer.transform(tst['bodytext'].values)\n",
    "Y_tst = tst.loc[:, 'OEMC':'TASR'].values\n",
    "\n",
    "Y_hat = clf.predict_proba(X_tst)"
   ]
  },
  {
   "cell_type": "code",
   "execution_count": 8,
   "metadata": {
    "collapsed": false,
    "scrolled": false
   },
   "outputs": [
    {
     "data": {
      "text/html": [
       "<div>\n",
       "<table border=\"1\" class=\"dataframe\">\n",
       "  <thead>\n",
       "    <tr style=\"text-align: right;\">\n",
       "      <th></th>\n",
       "      <th>TP</th>\n",
       "      <th>FP</th>\n",
       "      <th>TN</th>\n",
       "      <th>FN</th>\n",
       "      <th>TPR</th>\n",
       "      <th>FPR</th>\n",
       "      <th>PPV</th>\n",
       "    </tr>\n",
       "  </thead>\n",
       "  <tbody>\n",
       "    <tr>\n",
       "      <th>OEMC</th>\n",
       "      <td>7.0</td>\n",
       "      <td>0.0</td>\n",
       "      <td>10239.0</td>\n",
       "      <td>30.0</td>\n",
       "      <td>0.189189</td>\n",
       "      <td>0.000000</td>\n",
       "      <td>1.000000</td>\n",
       "    </tr>\n",
       "    <tr>\n",
       "      <th>CPD</th>\n",
       "      <td>4506.0</td>\n",
       "      <td>1025.0</td>\n",
       "      <td>3853.0</td>\n",
       "      <td>892.0</td>\n",
       "      <td>0.834754</td>\n",
       "      <td>0.210127</td>\n",
       "      <td>0.814681</td>\n",
       "    </tr>\n",
       "    <tr>\n",
       "      <th>SAO</th>\n",
       "      <td>609.0</td>\n",
       "      <td>244.0</td>\n",
       "      <td>9067.0</td>\n",
       "      <td>356.0</td>\n",
       "      <td>0.631088</td>\n",
       "      <td>0.026206</td>\n",
       "      <td>0.713951</td>\n",
       "    </tr>\n",
       "    <tr>\n",
       "      <th>CCCC</th>\n",
       "      <td>324.0</td>\n",
       "      <td>220.0</td>\n",
       "      <td>9323.0</td>\n",
       "      <td>409.0</td>\n",
       "      <td>0.442019</td>\n",
       "      <td>0.023054</td>\n",
       "      <td>0.595588</td>\n",
       "    </tr>\n",
       "    <tr>\n",
       "      <th>CCJ</th>\n",
       "      <td>143.0</td>\n",
       "      <td>51.0</td>\n",
       "      <td>9973.0</td>\n",
       "      <td>109.0</td>\n",
       "      <td>0.567460</td>\n",
       "      <td>0.005088</td>\n",
       "      <td>0.737113</td>\n",
       "    </tr>\n",
       "    <tr>\n",
       "      <th>CCSP</th>\n",
       "      <td>253.0</td>\n",
       "      <td>68.0</td>\n",
       "      <td>9809.0</td>\n",
       "      <td>146.0</td>\n",
       "      <td>0.634085</td>\n",
       "      <td>0.006885</td>\n",
       "      <td>0.788162</td>\n",
       "    </tr>\n",
       "    <tr>\n",
       "      <th>CPUB</th>\n",
       "      <td>18.0</td>\n",
       "      <td>6.0</td>\n",
       "      <td>10195.0</td>\n",
       "      <td>57.0</td>\n",
       "      <td>0.240000</td>\n",
       "      <td>0.000588</td>\n",
       "      <td>0.750000</td>\n",
       "    </tr>\n",
       "    <tr>\n",
       "      <th>IDOC</th>\n",
       "      <td>27.0</td>\n",
       "      <td>6.0</td>\n",
       "      <td>10181.0</td>\n",
       "      <td>62.0</td>\n",
       "      <td>0.303371</td>\n",
       "      <td>0.000589</td>\n",
       "      <td>0.818182</td>\n",
       "    </tr>\n",
       "    <tr>\n",
       "      <th>DOMV</th>\n",
       "      <td>323.0</td>\n",
       "      <td>113.0</td>\n",
       "      <td>9643.0</td>\n",
       "      <td>197.0</td>\n",
       "      <td>0.621154</td>\n",
       "      <td>0.011583</td>\n",
       "      <td>0.740826</td>\n",
       "    </tr>\n",
       "    <tr>\n",
       "      <th>SEXA</th>\n",
       "      <td>628.0</td>\n",
       "      <td>61.0</td>\n",
       "      <td>9462.0</td>\n",
       "      <td>125.0</td>\n",
       "      <td>0.833997</td>\n",
       "      <td>0.006406</td>\n",
       "      <td>0.911466</td>\n",
       "    </tr>\n",
       "    <tr>\n",
       "      <th>POLB</th>\n",
       "      <td>87.0</td>\n",
       "      <td>22.0</td>\n",
       "      <td>10091.0</td>\n",
       "      <td>76.0</td>\n",
       "      <td>0.533742</td>\n",
       "      <td>0.002175</td>\n",
       "      <td>0.798165</td>\n",
       "    </tr>\n",
       "    <tr>\n",
       "      <th>POLM</th>\n",
       "      <td>160.0</td>\n",
       "      <td>67.0</td>\n",
       "      <td>9923.0</td>\n",
       "      <td>126.0</td>\n",
       "      <td>0.559441</td>\n",
       "      <td>0.006707</td>\n",
       "      <td>0.704846</td>\n",
       "    </tr>\n",
       "    <tr>\n",
       "      <th>GUNV</th>\n",
       "      <td>3580.0</td>\n",
       "      <td>293.0</td>\n",
       "      <td>6009.0</td>\n",
       "      <td>394.0</td>\n",
       "      <td>0.900856</td>\n",
       "      <td>0.046493</td>\n",
       "      <td>0.924348</td>\n",
       "    </tr>\n",
       "    <tr>\n",
       "      <th>GLBTQ</th>\n",
       "      <td>22.0</td>\n",
       "      <td>3.0</td>\n",
       "      <td>10220.0</td>\n",
       "      <td>31.0</td>\n",
       "      <td>0.415094</td>\n",
       "      <td>0.000293</td>\n",
       "      <td>0.880000</td>\n",
       "    </tr>\n",
       "    <tr>\n",
       "      <th>JUVE</th>\n",
       "      <td>542.0</td>\n",
       "      <td>296.0</td>\n",
       "      <td>8893.0</td>\n",
       "      <td>545.0</td>\n",
       "      <td>0.498620</td>\n",
       "      <td>0.032212</td>\n",
       "      <td>0.646778</td>\n",
       "    </tr>\n",
       "    <tr>\n",
       "      <th>REEN</th>\n",
       "      <td>9.0</td>\n",
       "      <td>3.0</td>\n",
       "      <td>10237.0</td>\n",
       "      <td>27.0</td>\n",
       "      <td>0.250000</td>\n",
       "      <td>0.000293</td>\n",
       "      <td>0.750000</td>\n",
       "    </tr>\n",
       "    <tr>\n",
       "      <th>VIOL</th>\n",
       "      <td>3318.0</td>\n",
       "      <td>1140.0</td>\n",
       "      <td>4586.0</td>\n",
       "      <td>1232.0</td>\n",
       "      <td>0.729231</td>\n",
       "      <td>0.199092</td>\n",
       "      <td>0.744280</td>\n",
       "    </tr>\n",
       "    <tr>\n",
       "      <th>BEAT</th>\n",
       "      <td>42.0</td>\n",
       "      <td>21.0</td>\n",
       "      <td>10150.0</td>\n",
       "      <td>63.0</td>\n",
       "      <td>0.400000</td>\n",
       "      <td>0.002065</td>\n",
       "      <td>0.666667</td>\n",
       "    </tr>\n",
       "    <tr>\n",
       "      <th>PROB</th>\n",
       "      <td>35.0</td>\n",
       "      <td>7.0</td>\n",
       "      <td>10169.0</td>\n",
       "      <td>65.0</td>\n",
       "      <td>0.350000</td>\n",
       "      <td>0.000688</td>\n",
       "      <td>0.833333</td>\n",
       "    </tr>\n",
       "    <tr>\n",
       "      <th>PARL</th>\n",
       "      <td>46.0</td>\n",
       "      <td>16.0</td>\n",
       "      <td>10154.0</td>\n",
       "      <td>60.0</td>\n",
       "      <td>0.433962</td>\n",
       "      <td>0.001573</td>\n",
       "      <td>0.741935</td>\n",
       "    </tr>\n",
       "    <tr>\n",
       "      <th>CPLY</th>\n",
       "      <td>29.0</td>\n",
       "      <td>29.0</td>\n",
       "      <td>10091.0</td>\n",
       "      <td>127.0</td>\n",
       "      <td>0.185897</td>\n",
       "      <td>0.002866</td>\n",
       "      <td>0.500000</td>\n",
       "    </tr>\n",
       "    <tr>\n",
       "      <th>DRUG</th>\n",
       "      <td>474.0</td>\n",
       "      <td>128.0</td>\n",
       "      <td>9441.0</td>\n",
       "      <td>233.0</td>\n",
       "      <td>0.670438</td>\n",
       "      <td>0.013377</td>\n",
       "      <td>0.787375</td>\n",
       "    </tr>\n",
       "    <tr>\n",
       "      <th>CPS</th>\n",
       "      <td>214.0</td>\n",
       "      <td>33.0</td>\n",
       "      <td>9928.0</td>\n",
       "      <td>101.0</td>\n",
       "      <td>0.679365</td>\n",
       "      <td>0.003313</td>\n",
       "      <td>0.866397</td>\n",
       "    </tr>\n",
       "    <tr>\n",
       "      <th>GANG</th>\n",
       "      <td>741.0</td>\n",
       "      <td>171.0</td>\n",
       "      <td>9126.0</td>\n",
       "      <td>238.0</td>\n",
       "      <td>0.756895</td>\n",
       "      <td>0.018393</td>\n",
       "      <td>0.812500</td>\n",
       "    </tr>\n",
       "    <tr>\n",
       "      <th>ILSP</th>\n",
       "      <td>132.0</td>\n",
       "      <td>31.0</td>\n",
       "      <td>10008.0</td>\n",
       "      <td>105.0</td>\n",
       "      <td>0.556962</td>\n",
       "      <td>0.003088</td>\n",
       "      <td>0.809816</td>\n",
       "    </tr>\n",
       "    <tr>\n",
       "      <th>HOMI</th>\n",
       "      <td>2764.0</td>\n",
       "      <td>381.0</td>\n",
       "      <td>6673.0</td>\n",
       "      <td>458.0</td>\n",
       "      <td>0.857852</td>\n",
       "      <td>0.054012</td>\n",
       "      <td>0.878855</td>\n",
       "    </tr>\n",
       "    <tr>\n",
       "      <th>IPRA</th>\n",
       "      <td>56.0</td>\n",
       "      <td>19.0</td>\n",
       "      <td>10157.0</td>\n",
       "      <td>44.0</td>\n",
       "      <td>0.560000</td>\n",
       "      <td>0.001867</td>\n",
       "      <td>0.746667</td>\n",
       "    </tr>\n",
       "    <tr>\n",
       "      <th>CPBD</th>\n",
       "      <td>1.0</td>\n",
       "      <td>3.0</td>\n",
       "      <td>10234.0</td>\n",
       "      <td>38.0</td>\n",
       "      <td>0.025641</td>\n",
       "      <td>0.000293</td>\n",
       "      <td>0.250000</td>\n",
       "    </tr>\n",
       "    <tr>\n",
       "      <th>IMMG</th>\n",
       "      <td>24.0</td>\n",
       "      <td>3.0</td>\n",
       "      <td>10220.0</td>\n",
       "      <td>29.0</td>\n",
       "      <td>0.452830</td>\n",
       "      <td>0.000293</td>\n",
       "      <td>0.888889</td>\n",
       "    </tr>\n",
       "    <tr>\n",
       "      <th>ENVI</th>\n",
       "      <td>5.0</td>\n",
       "      <td>0.0</td>\n",
       "      <td>10266.0</td>\n",
       "      <td>5.0</td>\n",
       "      <td>0.500000</td>\n",
       "      <td>0.000000</td>\n",
       "      <td>1.000000</td>\n",
       "    </tr>\n",
       "    <tr>\n",
       "      <th>UNSPC</th>\n",
       "      <td>1604.0</td>\n",
       "      <td>857.0</td>\n",
       "      <td>6632.0</td>\n",
       "      <td>1183.0</td>\n",
       "      <td>0.575529</td>\n",
       "      <td>0.114435</td>\n",
       "      <td>0.651768</td>\n",
       "    </tr>\n",
       "    <tr>\n",
       "      <th>ILSC</th>\n",
       "      <td>10.0</td>\n",
       "      <td>4.0</td>\n",
       "      <td>10223.0</td>\n",
       "      <td>39.0</td>\n",
       "      <td>0.204082</td>\n",
       "      <td>0.000391</td>\n",
       "      <td>0.714286</td>\n",
       "    </tr>\n",
       "    <tr>\n",
       "      <th>ARSN</th>\n",
       "      <td>70.0</td>\n",
       "      <td>9.0</td>\n",
       "      <td>10166.0</td>\n",
       "      <td>31.0</td>\n",
       "      <td>0.693069</td>\n",
       "      <td>0.000885</td>\n",
       "      <td>0.886076</td>\n",
       "    </tr>\n",
       "    <tr>\n",
       "      <th>BURG</th>\n",
       "      <td>197.0</td>\n",
       "      <td>64.0</td>\n",
       "      <td>9839.0</td>\n",
       "      <td>176.0</td>\n",
       "      <td>0.528150</td>\n",
       "      <td>0.006463</td>\n",
       "      <td>0.754789</td>\n",
       "    </tr>\n",
       "    <tr>\n",
       "      <th>DUI</th>\n",
       "      <td>270.0</td>\n",
       "      <td>50.0</td>\n",
       "      <td>9890.0</td>\n",
       "      <td>66.0</td>\n",
       "      <td>0.803571</td>\n",
       "      <td>0.005030</td>\n",
       "      <td>0.843750</td>\n",
       "    </tr>\n",
       "    <tr>\n",
       "      <th>FRUD</th>\n",
       "      <td>329.0</td>\n",
       "      <td>80.0</td>\n",
       "      <td>9731.0</td>\n",
       "      <td>136.0</td>\n",
       "      <td>0.707527</td>\n",
       "      <td>0.008154</td>\n",
       "      <td>0.804401</td>\n",
       "    </tr>\n",
       "    <tr>\n",
       "      <th>ROBB</th>\n",
       "      <td>1120.0</td>\n",
       "      <td>210.0</td>\n",
       "      <td>8617.0</td>\n",
       "      <td>329.0</td>\n",
       "      <td>0.772947</td>\n",
       "      <td>0.023791</td>\n",
       "      <td>0.842105</td>\n",
       "    </tr>\n",
       "    <tr>\n",
       "      <th>TASR</th>\n",
       "      <td>12.0</td>\n",
       "      <td>2.0</td>\n",
       "      <td>10233.0</td>\n",
       "      <td>29.0</td>\n",
       "      <td>0.292683</td>\n",
       "      <td>0.000195</td>\n",
       "      <td>0.857143</td>\n",
       "    </tr>\n",
       "  </tbody>\n",
       "</table>\n",
       "</div>"
      ],
      "text/plain": [
       "           TP      FP       TN      FN       TPR       FPR       PPV\n",
       "OEMC      7.0     0.0  10239.0    30.0  0.189189  0.000000  1.000000\n",
       "CPD    4506.0  1025.0   3853.0   892.0  0.834754  0.210127  0.814681\n",
       "SAO     609.0   244.0   9067.0   356.0  0.631088  0.026206  0.713951\n",
       "CCCC    324.0   220.0   9323.0   409.0  0.442019  0.023054  0.595588\n",
       "CCJ     143.0    51.0   9973.0   109.0  0.567460  0.005088  0.737113\n",
       "CCSP    253.0    68.0   9809.0   146.0  0.634085  0.006885  0.788162\n",
       "CPUB     18.0     6.0  10195.0    57.0  0.240000  0.000588  0.750000\n",
       "IDOC     27.0     6.0  10181.0    62.0  0.303371  0.000589  0.818182\n",
       "DOMV    323.0   113.0   9643.0   197.0  0.621154  0.011583  0.740826\n",
       "SEXA    628.0    61.0   9462.0   125.0  0.833997  0.006406  0.911466\n",
       "POLB     87.0    22.0  10091.0    76.0  0.533742  0.002175  0.798165\n",
       "POLM    160.0    67.0   9923.0   126.0  0.559441  0.006707  0.704846\n",
       "GUNV   3580.0   293.0   6009.0   394.0  0.900856  0.046493  0.924348\n",
       "GLBTQ    22.0     3.0  10220.0    31.0  0.415094  0.000293  0.880000\n",
       "JUVE    542.0   296.0   8893.0   545.0  0.498620  0.032212  0.646778\n",
       "REEN      9.0     3.0  10237.0    27.0  0.250000  0.000293  0.750000\n",
       "VIOL   3318.0  1140.0   4586.0  1232.0  0.729231  0.199092  0.744280\n",
       "BEAT     42.0    21.0  10150.0    63.0  0.400000  0.002065  0.666667\n",
       "PROB     35.0     7.0  10169.0    65.0  0.350000  0.000688  0.833333\n",
       "PARL     46.0    16.0  10154.0    60.0  0.433962  0.001573  0.741935\n",
       "CPLY     29.0    29.0  10091.0   127.0  0.185897  0.002866  0.500000\n",
       "DRUG    474.0   128.0   9441.0   233.0  0.670438  0.013377  0.787375\n",
       "CPS     214.0    33.0   9928.0   101.0  0.679365  0.003313  0.866397\n",
       "GANG    741.0   171.0   9126.0   238.0  0.756895  0.018393  0.812500\n",
       "ILSP    132.0    31.0  10008.0   105.0  0.556962  0.003088  0.809816\n",
       "HOMI   2764.0   381.0   6673.0   458.0  0.857852  0.054012  0.878855\n",
       "IPRA     56.0    19.0  10157.0    44.0  0.560000  0.001867  0.746667\n",
       "CPBD      1.0     3.0  10234.0    38.0  0.025641  0.000293  0.250000\n",
       "IMMG     24.0     3.0  10220.0    29.0  0.452830  0.000293  0.888889\n",
       "ENVI      5.0     0.0  10266.0     5.0  0.500000  0.000000  1.000000\n",
       "UNSPC  1604.0   857.0   6632.0  1183.0  0.575529  0.114435  0.651768\n",
       "ILSC     10.0     4.0  10223.0    39.0  0.204082  0.000391  0.714286\n",
       "ARSN     70.0     9.0  10166.0    31.0  0.693069  0.000885  0.886076\n",
       "BURG    197.0    64.0   9839.0   176.0  0.528150  0.006463  0.754789\n",
       "DUI     270.0    50.0   9890.0    66.0  0.803571  0.005030  0.843750\n",
       "FRUD    329.0    80.0   9731.0   136.0  0.707527  0.008154  0.804401\n",
       "ROBB   1120.0   210.0   8617.0   329.0  0.772947  0.023791  0.842105\n",
       "TASR     12.0     2.0  10233.0    29.0  0.292683  0.000195  0.857143"
      ]
     },
     "execution_count": 8,
     "metadata": {},
     "output_type": "execute_result"
    }
   ],
   "source": [
    "perf = pd.DataFrame()\n",
    "\n",
    "for i in range(Y_hat.shape[1]):\n",
    "    tag = tst.columns[7+i]\n",
    "    perf.loc['TP', tag] = sum((Y_hat[:,i] > .5) & (Y_tst[:,i] == 1))\n",
    "    perf.loc['FP', tag] = sum((Y_hat[:,i] > .5) & (Y_tst[:,i] == 0))\n",
    "    perf.loc['TN', tag] = sum((Y_hat[:,i] < .5) & (Y_tst[:,i] == 0))\n",
    "    perf.loc['FN', tag] = sum((Y_hat[:,i] < .5) & (Y_tst[:,i] == 1))\n",
    "    perf.loc['TPR', tag] = perf.loc['TP', tag] / (perf.loc['TP', tag] + perf.loc['FN', tag])\n",
    "    perf.loc['FPR', tag] = perf.loc['FP', tag] / (perf.loc['FP', tag] + perf.loc['TN', tag])\n",
    "    perf.loc['PPV', tag] = perf.loc['TP', tag] / (perf.loc['TP', tag] + perf.loc['FP', tag])\n",
    "\n",
    "perf = perf.T\n",
    "perf"
   ]
  },
  {
   "cell_type": "code",
   "execution_count": 9,
   "metadata": {
    "collapsed": false
   },
   "outputs": [
    {
     "data": {
      "image/png": "[encoded data removed]",
      "text/plain": [
       "<matplotlib.figure.Figure at 0x257778c9c50>"
      ]
     },
     "metadata": {},
     "output_type": "display_data"
    }
   ],
   "source": [
    "perf['TPR'].plot(kind='bar', ylim=[0,1], width=0.9)\n",
    "plt.ylabel('TPR');"
   ]
  },
  {
   "cell_type": "code",
   "execution_count": 10,
   "metadata": {
    "collapsed": false
   },
   "outputs": [
    {
     "data": {
      "image/png": "[encoded data removed]",
      "text/plain": [
       "<matplotlib.figure.Figure at 0x25778ee9c50>"
      ]
     },
     "metadata": {},
     "output_type": "display_data"
    }
   ],
   "source": [
    "(1 - perf['FPR']).plot(kind='bar', ylim=[0,1], width=0.9)\n",
    "plt.ylabel('1 - FPR');"
   ]
  },
  {
   "cell_type": "code",
   "execution_count": 11,
   "metadata": {
    "collapsed": false
   },
   "outputs": [
    {
     "data": {
      "image/png": "[encoded data removed]",
      "text/plain": [
       "<matplotlib.figure.Figure at 0x25777807390>"
      ]
     },
     "metadata": {},
     "output_type": "display_data"
    }
   ],
   "source": [
    "perf['PPV'].plot(kind='bar', ylim=[0,1], width=0.9)\n",
    "plt.ylabel('PPV');"
   ]
  },
  {
   "cell_type": "code",
   "execution_count": 12,
   "metadata": {
    "collapsed": true
   },
   "outputs": [],
   "source": [
    "import benchmark_tagging as bt"
   ]
  },
  {
   "cell_type": "code",
   "execution_count": 13,
   "metadata": {
    "collapsed": false
   },
   "outputs": [
    {
     "name": "stdout",
     "output_type": "stream",
     "text": [
      "[0.96414611961945962, 0.96402822424506907, 0.96383153961044155, 0.96409583458822223]\n"
     ]
    }
   ],
   "source": [
    "print(bt.benchmark(\n",
    "    lambda: sklearn.multiclass.OneVsRestClassifier(\n",
    "        sklearn.linear_model.LogisticRegression()\n",
    "    ),\n",
    "    vectorizer.transform(crime_df['bodytext'].values),\n",
    "    crime_df.loc[:, 'OEMC':'TASR'].values\n",
    "))"
   ]
  },
  {
   "cell_type": "code",
   "execution_count": 14,
   "metadata": {
    "collapsed": false
   },
   "outputs": [
    {
     "data": {
      "text/plain": [
       "<module 'benchmark_tagging' from 'C:\\\\Users\\\\kevin.rose\\\\Documents\\\\GitHub\\\\cjp-article-tagging\\\\src\\\\benchmark_tagging.py'>"
      ]
     },
     "execution_count": 14,
     "metadata": {},
     "output_type": "execute_result"
    }
   ],
   "source": [
    "from importlib import reload\n",
    "reload(bt)"
   ]
  },
  {
   "cell_type": "code",
   "execution_count": 16,
   "metadata": {
    "collapsed": false
   },
   "outputs": [
    {
     "data": {
      "text/plain": [
       "0.96402542951579817"
      ]
     },
     "execution_count": 16,
     "metadata": {},
     "output_type": "execute_result"
    }
   ],
   "source": [
    "np.mean([0.96414611961945962, 0.96402822424506907, 0.96383153961044155, 0.96409583458822223])"
   ]
  },
  {
   "cell_type": "code",
   "execution_count": null,
   "metadata": {
    "collapsed": true
   },
   "outputs": [],
   "source": []
  }
 ],
 "metadata": {
  "anaconda-cloud": {},
  "kernelspec": {
   "display_name": "Python [conda env:py35]",
   "language": "python",
   "name": "conda-env-py35-py"
  },
  "language_info": {
   "codemirror_mode": {
    "name": "ipython",
    "version": 3
   },
   "file_extension": ".py",
   "mimetype": "text/x-python",
   "name": "python",
   "nbconvert_exporter": "python",
   "pygments_lexer": "ipython3",
   "version": "3.5.2"
  }
 },
 "nbformat": 4,
 "nbformat_minor": 2
}
